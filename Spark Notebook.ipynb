{
 "cells": [
  {
   "cell_type": "markdown",
   "id": "38765064",
   "metadata": {},
   "source": [
    "GROUP 6\\\n",
    "1.\\\n",
    "a. Objective of project: Predict BTC/USDT price trend in the next 1 hour\\\n",
    "b. Method of analysis: LSTMs, regression\\\n",
    "c. Dataset:\\\n",
    "-Independent variables: Open, Close, High, Low, Volume BTC, Volume USDT\\\n",
    "-Dependent variable: Close (price)\\\n",
    "-Column descriptions:\\\n",
    "● Unix: Unix timestamp is a digital standard for denoting an exact, universal time\\\n",
    "● Date and Time: Date and time of price with time interval of 1 hour\\\n",
    "● Open: BTC/USDT price first trade upon the start of the time period\\\n",
    "● Close: BTC/USDT price at the end of the time period\\\n",
    "● High: Highest BTC/USDT price during the 1 hour time period\\\n",
    "● Low: Lowest BTC/USDT price during the 1 hour time period\\\n",
    "● Volume BTC: Measure of how much of a given BTC has been traded in the time\n",
    "period\\\n",
    "● Volume USDT: Measure of how much of a given USDT has been traded in\n",
    "the time period\\\n",
    "● Tradecount: Number of trades"
   ]
  },
  {
   "cell_type": "code",
   "execution_count": 1,
   "id": "945dd27e",
   "metadata": {},
   "outputs": [
    {
     "data": {
      "application/vnd.jupyter.widget-view+json": {
       "model_id": "aa13cf0911ea4a0a92684db0e2d7e838",
       "version_major": 2,
       "version_minor": 0
      },
      "text/plain": [
       "VBox()"
      ]
     },
     "metadata": {},
     "output_type": "display_data"
    },
    {
     "name": "stdout",
     "output_type": "stream",
     "text": [
      "Starting Spark application\n"
     ]
    },
    {
     "data": {
      "text/html": [
       "<table>\n",
       "<tr><th>ID</th><th>YARN Application ID</th><th>Kind</th><th>State</th><th>Spark UI</th><th>Driver log</th><th>Current session?</th></tr><tr><td>4</td><td>application_1626386089809_0005</td><td>pyspark</td><td>idle</td><td><a target=\"_blank\" href=\"http://ip-172-31-32-97.ec2.internal:20888/proxy/application_1626386089809_0005/\">Link</a></td><td><a target=\"_blank\" href=\"http://ip-172-31-45-20.ec2.internal:8042/node/containerlogs/container_1626386089809_0005_01_000001/livy\">Link</a></td><td>✔</td></tr></table>"
      ],
      "text/plain": [
       "<IPython.core.display.HTML object>"
      ]
     },
     "metadata": {},
     "output_type": "display_data"
    },
    {
     "data": {
      "application/vnd.jupyter.widget-view+json": {
       "model_id": "",
       "version_major": 2,
       "version_minor": 0
      },
      "text/plain": [
       "FloatProgress(value=0.0, bar_style='info', description='Progress:', layout=Layout(height='25px', width='50%'),…"
      ]
     },
     "metadata": {},
     "output_type": "display_data"
    },
    {
     "name": "stdout",
     "output_type": "stream",
     "text": [
      "SparkSession available as 'spark'.\n"
     ]
    },
    {
     "data": {
      "application/vnd.jupyter.widget-view+json": {
       "model_id": "",
       "version_major": 2,
       "version_minor": 0
      },
      "text/plain": [
       "FloatProgress(value=0.0, bar_style='info', description='Progress:', layout=Layout(height='25px', width='50%'),…"
      ]
     },
     "metadata": {},
     "output_type": "display_data"
    }
   ],
   "source": [
    "import pyspark.sql.functions as fn"
   ]
  },
  {
   "cell_type": "markdown",
   "id": "2832c374",
   "metadata": {},
   "source": [
    "2. Data Cleaning"
   ]
  },
  {
   "cell_type": "markdown",
   "id": "0bd42741",
   "metadata": {},
   "source": [
    "2a. Reading from CSV"
   ]
  },
  {
   "cell_type": "code",
   "execution_count": 2,
   "id": "c8d09254",
   "metadata": {},
   "outputs": [
    {
     "data": {
      "application/vnd.jupyter.widget-view+json": {
       "model_id": "b1efcb9290dd4b808d27946a11a3158e",
       "version_major": 2,
       "version_minor": 0
      },
      "text/plain": [
       "VBox()"
      ]
     },
     "metadata": {},
     "output_type": "display_data"
    },
    {
     "data": {
      "application/vnd.jupyter.widget-view+json": {
       "model_id": "",
       "version_major": 2,
       "version_minor": 0
      },
      "text/plain": [
       "FloatProgress(value=0.0, bar_style='info', description='Progress:', layout=Layout(height='25px', width='50%'),…"
      ]
     },
     "metadata": {},
     "output_type": "display_data"
    }
   ],
   "source": [
    "df = (\n",
    "spark\n",
    ".read\n",
    ".csv(\n",
    "'s3://group6project/BTCUSDT Binance.csv'\n",
    ", header=True\n",
    ", inferSchema=True)\n",
    ")"
   ]
  },
  {
   "cell_type": "code",
   "execution_count": 3,
   "id": "0381c90e",
   "metadata": {},
   "outputs": [
    {
     "data": {
      "application/vnd.jupyter.widget-view+json": {
       "model_id": "c85a7aa3111b4cdaa2cdcfd44b10895c",
       "version_major": 2,
       "version_minor": 0
      },
      "text/plain": [
       "VBox()"
      ]
     },
     "metadata": {},
     "output_type": "display_data"
    },
    {
     "data": {
      "application/vnd.jupyter.widget-view+json": {
       "model_id": "",
       "version_major": 2,
       "version_minor": 0
      },
      "text/plain": [
       "FloatProgress(value=0.0, bar_style='info', description='Progress:', layout=Layout(height='25px', width='50%'),…"
      ]
     },
     "metadata": {},
     "output_type": "display_data"
    },
    {
     "name": "stdout",
     "output_type": "stream",
     "text": [
      "+---+-------------+-------------------+--------+--------+--------+--------+-----------+------------------+----------+\n",
      "|_c0|         unix|               date|    open|    high|     low|   close| Volume BTC|       Volume USDT|tradecount|\n",
      "+---+-------------+-------------------+--------+--------+--------+--------+-----------+------------------+----------+\n",
      "|  0|1624492800000|2021-06-24 00:00:00|33675.07|33879.99|33590.75|33615.13| 449.057483|1.51444422057383E7|    9231.0|\n",
      "|  1|1624489200000|2021-06-23 23:00:00|33469.76|33749.11| 33251.0|33678.07|2214.913517|7.42996237627305E7|   45570.0|\n",
      "|  2|1624485600000|2021-06-23 22:00:00|33335.01| 33587.0|33133.33|33469.85|2554.369099|8.53308163282183E7|   46967.0|\n",
      "|  3|1624482000000|2021-06-23 21:00:00|33045.77|33785.26| 32985.5| 33335.0| 3332.77123|1.11004246609776E8|   67949.0|\n",
      "|  4|1624478400000|2021-06-23 20:00:00| 32882.5|33295.79|32749.01|33045.78|4423.694685|1.46242299138994E8|   66149.0|\n",
      "|  5|1624474800000|2021-06-23 19:00:00|33292.57|33568.96|32870.99|32879.97|3758.591851|1.24896927871904E8|   67189.0|\n",
      "|  6|1624471200000|2021-06-23 18:00:00|33595.81|33595.81|32919.19|33292.58| 5643.97246|1.87695947695561E8|  103908.0|\n",
      "|  7|1624467600000|2021-06-23 17:00:00|33688.58|33739.98| 33501.0|33595.82|1856.691141|6.24204617692426E7|   46856.0|\n",
      "|  8|1624464000000|2021-06-23 16:00:00|33490.14|33947.17| 33211.0| 33685.3|5430.388276|1.82608346817547E8|  100972.0|\n",
      "|  9|1624460400000|2021-06-23 15:00:00| 34058.0|34085.19| 33400.3|33490.14|8223.991779|2.76697256698424E8|  104330.0|\n",
      "+---+-------------+-------------------+--------+--------+--------+--------+-----------+------------------+----------+\n",
      "only showing top 10 rows"
     ]
    }
   ],
   "source": [
    "#Drop symbol column because all data is about BTC/USDT prices:\n",
    "df = df.drop('symbol')\n",
    "df.show(10)"
   ]
  },
  {
   "cell_type": "code",
   "execution_count": 4,
   "id": "85249826",
   "metadata": {},
   "outputs": [
    {
     "data": {
      "application/vnd.jupyter.widget-view+json": {
       "model_id": "05c1d2b620e34b939972b98ac59639e7",
       "version_major": 2,
       "version_minor": 0
      },
      "text/plain": [
       "VBox()"
      ]
     },
     "metadata": {},
     "output_type": "display_data"
    },
    {
     "data": {
      "application/vnd.jupyter.widget-view+json": {
       "model_id": "",
       "version_major": 2,
       "version_minor": 0
      },
      "text/plain": [
       "FloatProgress(value=0.0, bar_style='info', description='Progress:', layout=Layout(height='25px', width='50%'),…"
      ]
     },
     "metadata": {},
     "output_type": "display_data"
    },
    {
     "name": "stdout",
     "output_type": "stream",
     "text": [
      "root\n",
      " |-- _c0: integer (nullable = true)\n",
      " |-- unix: long (nullable = true)\n",
      " |-- date: string (nullable = true)\n",
      " |-- open: double (nullable = true)\n",
      " |-- high: double (nullable = true)\n",
      " |-- low: double (nullable = true)\n",
      " |-- close: double (nullable = true)\n",
      " |-- Volume BTC: double (nullable = true)\n",
      " |-- Volume USDT: double (nullable = true)\n",
      " |-- tradecount: double (nullable = true)"
     ]
    }
   ],
   "source": [
    "df.printSchema()"
   ]
  },
  {
   "cell_type": "markdown",
   "id": "1a69e779",
   "metadata": {},
   "source": [
    "2b. Duplicated rows?"
   ]
  },
  {
   "cell_type": "code",
   "execution_count": 5,
   "id": "510e8fc1",
   "metadata": {},
   "outputs": [
    {
     "data": {
      "application/vnd.jupyter.widget-view+json": {
       "model_id": "2b568fecdc5b450a82655fa22867d4b0",
       "version_major": 2,
       "version_minor": 0
      },
      "text/plain": [
       "VBox()"
      ]
     },
     "metadata": {},
     "output_type": "display_data"
    },
    {
     "data": {
      "application/vnd.jupyter.widget-view+json": {
       "model_id": "",
       "version_major": 2,
       "version_minor": 0
      },
      "text/plain": [
       "FloatProgress(value=0.0, bar_style='info', description='Progress:', layout=Layout(height='25px', width='50%'),…"
      ]
     },
     "metadata": {},
     "output_type": "display_data"
    },
    {
     "name": "stdout",
     "output_type": "stream",
     "text": [
      "(36399, 36399)"
     ]
    }
   ],
   "source": [
    "#Count total number of rows and total number of unique rows to check for duplicates / exact duplicates:\n",
    "df.count(), df.distinct().count()"
   ]
  },
  {
   "cell_type": "markdown",
   "id": "4739f23b",
   "metadata": {},
   "source": [
    "This indicates that all rows are distinct."
   ]
  },
  {
   "cell_type": "code",
   "execution_count": 6,
   "id": "13f16b29",
   "metadata": {},
   "outputs": [
    {
     "data": {
      "application/vnd.jupyter.widget-view+json": {
       "model_id": "b913bcad00724698bd3664b5be8e4ae3",
       "version_major": 2,
       "version_minor": 0
      },
      "text/plain": [
       "VBox()"
      ]
     },
     "metadata": {},
     "output_type": "display_data"
    },
    {
     "data": {
      "application/vnd.jupyter.widget-view+json": {
       "model_id": "",
       "version_major": 2,
       "version_minor": 0
      },
      "text/plain": [
       "FloatProgress(value=0.0, bar_style='info', description='Progress:', layout=Layout(height='25px', width='50%'),…"
      ]
     },
     "metadata": {},
     "output_type": "display_data"
    },
    {
     "name": "stdout",
     "output_type": "stream",
     "text": [
      "+-----------+-------------------+\n",
      "|CountOfUnix|CountOfDistinctUnix|\n",
      "+-----------+-------------------+\n",
      "|      36399|              36399|\n",
      "+-----------+-------------------+"
     ]
    }
   ],
   "source": [
    "#Count total number of unix and total number of unique unix to check for duplicates:\n",
    "df.agg(\n",
    "      fn.count('unix').alias('CountOfUnix')\n",
    "    , fn.countDistinct('unix').alias('CountOfDistinctUnix')\n",
    ").show()"
   ]
  },
  {
   "cell_type": "markdown",
   "id": "5c1ea6e8",
   "metadata": {},
   "source": [
    "This indicates that all unix are distinct."
   ]
  },
  {
   "cell_type": "markdown",
   "id": "7095b28c",
   "metadata": {},
   "source": [
    "2c. Missing observations?"
   ]
  },
  {
   "cell_type": "code",
   "execution_count": 7,
   "id": "1feee6f9",
   "metadata": {},
   "outputs": [
    {
     "data": {
      "application/vnd.jupyter.widget-view+json": {
       "model_id": "47034d2b667943d9b5f54b1aaeba1e3f",
       "version_major": 2,
       "version_minor": 0
      },
      "text/plain": [
       "VBox()"
      ]
     },
     "metadata": {},
     "output_type": "display_data"
    },
    {
     "data": {
      "application/vnd.jupyter.widget-view+json": {
       "model_id": "",
       "version_major": 2,
       "version_minor": 0
      },
      "text/plain": [
       "FloatProgress(value=0.0, bar_style='info', description='Progress:', layout=Layout(height='25px', width='50%'),…"
      ]
     },
     "metadata": {},
     "output_type": "display_data"
    },
    {
     "name": "stdout",
     "output_type": "stream",
     "text": [
      "tradecount_miss 0.7852962993488832\n",
      "date_miss 2.747328223307033e-05\n",
      "_c0_miss 0.0\n",
      "unix_miss 0.0\n",
      "open_miss 0.0\n",
      "high_miss 0.0\n",
      "low_miss 0.0\n",
      "close_miss 0.0\n",
      "Volume BTC_miss 0.0\n",
      "Volume USDT_miss 0.0"
     ]
    }
   ],
   "source": [
    "#Count percentage of missing values in each column:\n",
    "for k, v in sorted(\n",
    "    df.agg(*[\n",
    "               (1 - (fn.count(c) / fn.count('*')))\n",
    "                    .alias(c + '_miss')\n",
    "               for c in df.columns\n",
    "           ])\n",
    "        .collect()[0]\n",
    "        .asDict()\n",
    "        .items()\n",
    "    , key=lambda el: el[1]\n",
    "    , reverse=True\n",
    "):\n",
    "    print(k, v)"
   ]
  },
  {
   "cell_type": "markdown",
   "id": "766300d5",
   "metadata": {},
   "source": [
    "Because tradecount column has 78.53% of missing values, it will be dropped. "
   ]
  },
  {
   "cell_type": "code",
   "execution_count": 8,
   "id": "73c75177",
   "metadata": {},
   "outputs": [
    {
     "data": {
      "application/vnd.jupyter.widget-view+json": {
       "model_id": "1e666664ec4749fea57e522d6d406801",
       "version_major": 2,
       "version_minor": 0
      },
      "text/plain": [
       "VBox()"
      ]
     },
     "metadata": {},
     "output_type": "display_data"
    },
    {
     "data": {
      "application/vnd.jupyter.widget-view+json": {
       "model_id": "",
       "version_major": 2,
       "version_minor": 0
      },
      "text/plain": [
       "FloatProgress(value=0.0, bar_style='info', description='Progress:', layout=Layout(height='25px', width='50%'),…"
      ]
     },
     "metadata": {},
     "output_type": "display_data"
    },
    {
     "name": "stdout",
     "output_type": "stream",
     "text": [
      "+---+-------------+-------------------+--------+--------+--------+--------+------------+--------------------+\n",
      "|_c0|         unix|               date|    open|    high|     low|   close|  Volume BTC|         Volume USDT|\n",
      "+---+-------------+-------------------+--------+--------+--------+--------+------------+--------------------+\n",
      "|  0|1624492800000|2021-06-24 00:00:00|33675.07|33879.99|33590.75|33615.13|  449.057483|  1.51444422057383E7|\n",
      "|  1|1624489200000|2021-06-23 23:00:00|33469.76|33749.11| 33251.0|33678.07| 2214.913517|  7.42996237627305E7|\n",
      "|  2|1624485600000|2021-06-23 22:00:00|33335.01| 33587.0|33133.33|33469.85| 2554.369099|  8.53308163282183E7|\n",
      "|  3|1624482000000|2021-06-23 21:00:00|33045.77|33785.26| 32985.5| 33335.0|  3332.77123|  1.11004246609776E8|\n",
      "|  4|1624478400000|2021-06-23 20:00:00| 32882.5|33295.79|32749.01|33045.78| 4423.694685|  1.46242299138994E8|\n",
      "|  5|1624474800000|2021-06-23 19:00:00|33292.57|33568.96|32870.99|32879.97| 3758.591851|  1.24896927871904E8|\n",
      "|  6|1624471200000|2021-06-23 18:00:00|33595.81|33595.81|32919.19|33292.58|  5643.97246|  1.87695947695561E8|\n",
      "|  7|1624467600000|2021-06-23 17:00:00|33688.58|33739.98| 33501.0|33595.82| 1856.691141|  6.24204617692426E7|\n",
      "|  8|1624464000000|2021-06-23 16:00:00|33490.14|33947.17| 33211.0| 33685.3| 5430.388276|  1.82608346817547E8|\n",
      "|  9|1624460400000|2021-06-23 15:00:00| 34058.0|34085.19| 33400.3|33490.14| 8223.991779|  2.76697256698424E8|\n",
      "| 10|1624456800000|2021-06-23 14:00:00|33989.13|34195.14| 33750.0|34057.99| 4880.203861|  1.66004831888117E8|\n",
      "| 11|1624453200000|2021-06-23 13:00:00|34199.99| 34881.0|33877.26|33994.76|11307.999775|  3.88676286885848E8|\n",
      "| 12|1624449600000|2021-06-23 12:00:00| 33911.4| 34200.0| 33850.0|34199.98|  3853.67773|  1.31172555532786E8|\n",
      "| 13|1624446000000|2021-06-23 11:00:00|34218.49| 34500.0| 33845.0|33911.39| 5083.205873|  1.73466994010466E8|\n",
      "| 14|1624442400000|2021-06-23 10:00:00|33920.97|34298.52| 33833.1|34218.48| 3905.422679|   1.3309855218219E8|\n",
      "| 15|1624438800000|2021-06-23 09:00:00|33735.05|34115.81|33650.21|33920.97| 3962.647074|  1.34430493461002E8|\n",
      "| 16|1624435200000|2021-06-23 08:00:00|33982.26|34264.57|33717.28| 33735.9| 5390.489543|1.8348099322868901E8|\n",
      "| 17|1624431600000|2021-06-23 07:00:00|33880.89| 34196.7|33818.57|33982.26| 3153.324485|   1.0725306179786E8|\n",
      "| 18|1624428000000|2021-06-23 06:00:00|34320.47| 34392.1| 33770.0|33880.88|  4383.60299|   1.4934538149333E8|\n",
      "| 19|1624424400000|2021-06-23 05:00:00| 33800.0|34368.56|33574.11|34320.47|  6246.15707|  2.12552819476356E8|\n",
      "+---+-------------+-------------------+--------+--------+--------+--------+------------+--------------------+\n",
      "only showing top 20 rows"
     ]
    }
   ],
   "source": [
    "#Drop tradecount column:\n",
    "no_tradecount = df.select([col for col in df.columns if col != 'tradecount'])\n",
    "no_tradecount.show()"
   ]
  },
  {
   "cell_type": "code",
   "execution_count": 9,
   "id": "ff3dded7",
   "metadata": {},
   "outputs": [
    {
     "data": {
      "application/vnd.jupyter.widget-view+json": {
       "model_id": "93abbe0c3a4e40a7a93f81f2c7701e10",
       "version_major": 2,
       "version_minor": 0
      },
      "text/plain": [
       "VBox()"
      ]
     },
     "metadata": {},
     "output_type": "display_data"
    },
    {
     "data": {
      "application/vnd.jupyter.widget-view+json": {
       "model_id": "",
       "version_major": 2,
       "version_minor": 0
      },
      "text/plain": [
       "FloatProgress(value=0.0, bar_style='info', description='Progress:', layout=Layout(height='25px', width='50%'),…"
      ]
     },
     "metadata": {},
     "output_type": "display_data"
    },
    {
     "name": "stdout",
     "output_type": "stream",
     "text": [
      "1"
     ]
    }
   ],
   "source": [
    "#Count the number of rows with missing values\n",
    "no_tradecount.rdd.map(\n",
    "           lambda row: (\n",
    "                 row['unix']\n",
    "               , sum([c == None for c in row])\n",
    "           )\n",
    "        )\\\n",
    "        .filter(lambda el: el[1] >= 1)\\\n",
    "        .count()"
   ]
  },
  {
   "cell_type": "markdown",
   "id": "8c335d2d",
   "metadata": {},
   "source": [
    "There is 1 row with missing values."
   ]
  },
  {
   "cell_type": "code",
   "execution_count": 10,
   "id": "a8895b09",
   "metadata": {},
   "outputs": [
    {
     "data": {
      "application/vnd.jupyter.widget-view+json": {
       "model_id": "118984cab58b453a9e845cd22f3df1dc",
       "version_major": 2,
       "version_minor": 0
      },
      "text/plain": [
       "VBox()"
      ]
     },
     "metadata": {},
     "output_type": "display_data"
    },
    {
     "data": {
      "application/vnd.jupyter.widget-view+json": {
       "model_id": "",
       "version_major": 2,
       "version_minor": 0
      },
      "text/plain": [
       "FloatProgress(value=0.0, bar_style='info', description='Progress:', layout=Layout(height='25px', width='50%'),…"
      ]
     },
     "metadata": {},
     "output_type": "display_data"
    },
    {
     "name": "stdout",
     "output_type": "stream",
     "text": [
      "+-----------------+------------+\n",
      "|             unix|CountMissing|\n",
      "+-----------------+------------+\n",
      "|12628117525348800|           1|\n",
      "+-----------------+------------+"
     ]
    }
   ],
   "source": [
    "#Count the number of missing values in that row:\n",
    "(\n",
    "    spark.createDataFrame(\n",
    "        no_tradecount.rdd.map(\n",
    "           lambda row: (\n",
    "                 row['unix']\n",
    "               , sum([c == None for c in row])\n",
    "           )\n",
    "        )\n",
    "        .filter(lambda el: el[1] >= 1)\n",
    "        .collect()\n",
    "        ,['unix', 'CountMissing']\n",
    "    )\n",
    "    .orderBy('CountMissing', ascending=False)\n",
    "    .show()\n",
    ")"
   ]
  },
  {
   "cell_type": "markdown",
   "id": "7a3ccdc4",
   "metadata": {},
   "source": [
    "There is 1 missing value in that row."
   ]
  },
  {
   "cell_type": "code",
   "execution_count": 11,
   "id": "d1c21fdf",
   "metadata": {},
   "outputs": [
    {
     "data": {
      "application/vnd.jupyter.widget-view+json": {
       "model_id": "e884db3abdab43ec82460bdb76410abd",
       "version_major": 2,
       "version_minor": 0
      },
      "text/plain": [
       "VBox()"
      ]
     },
     "metadata": {},
     "output_type": "display_data"
    },
    {
     "data": {
      "application/vnd.jupyter.widget-view+json": {
       "model_id": "",
       "version_major": 2,
       "version_minor": 0
      },
      "text/plain": [
       "FloatProgress(value=0.0, bar_style='info', description='Progress:', layout=Layout(height='25px', width='50%'),…"
      ]
     },
     "metadata": {},
     "output_type": "display_data"
    },
    {
     "name": "stdout",
     "output_type": "stream",
     "text": [
      "+-----+-----------------+----+-------------------+-------------------+-------------------+-------------------+-------------------+--------------------+\n",
      "|  _c0|             unix|date|               open|               high|                low|              close|         Volume BTC|         Volume USDT|\n",
      "+-----+-----------------+----+-------------------+-------------------+-------------------+-------------------+-------------------+--------------------+\n",
      "|36398|12628117525348800|null|4.775442959899966E8|4.806080046300185E8|4.741987750199819E8|4.775714681399971E8|7.473220319429691E7|1.270546632178858...|\n",
      "+-----+-----------------+----+-------------------+-------------------+-------------------+-------------------+-------------------+--------------------+"
     ]
    }
   ],
   "source": [
    "#View the row with missing values:\n",
    "(\n",
    "    no_tradecount\n",
    "    .where('unix == 12628117525348800')\n",
    "    .show()\n",
    ")"
   ]
  },
  {
   "cell_type": "code",
   "execution_count": 12,
   "id": "0f2fd8f6",
   "metadata": {},
   "outputs": [
    {
     "data": {
      "application/vnd.jupyter.widget-view+json": {
       "model_id": "41ba412f96e640ceb1f1b31995226b07",
       "version_major": 2,
       "version_minor": 0
      },
      "text/plain": [
       "VBox()"
      ]
     },
     "metadata": {},
     "output_type": "display_data"
    },
    {
     "data": {
      "application/vnd.jupyter.widget-view+json": {
       "model_id": "",
       "version_major": 2,
       "version_minor": 0
      },
      "text/plain": [
       "FloatProgress(value=0.0, bar_style='info', description='Progress:', layout=Layout(height='25px', width='50%'),…"
      ]
     },
     "metadata": {},
     "output_type": "display_data"
    },
    {
     "name": "stdout",
     "output_type": "stream",
     "text": [
      "(36399, 36398)"
     ]
    }
   ],
   "source": [
    "#Drop rows that have less than thresh NON-NULL values:\n",
    "df_clean = no_tradecount.dropna(thresh = 9)\n",
    "no_tradecount.count(), df_clean.count()"
   ]
  },
  {
   "cell_type": "markdown",
   "id": "96c23600",
   "metadata": {},
   "source": [
    "One row is dropped."
   ]
  },
  {
   "cell_type": "code",
   "execution_count": 13,
   "id": "26bb27fc",
   "metadata": {},
   "outputs": [
    {
     "data": {
      "application/vnd.jupyter.widget-view+json": {
       "model_id": "4b341ddabdec434abae4876a2dff8390",
       "version_major": 2,
       "version_minor": 0
      },
      "text/plain": [
       "VBox()"
      ]
     },
     "metadata": {},
     "output_type": "display_data"
    },
    {
     "data": {
      "application/vnd.jupyter.widget-view+json": {
       "model_id": "",
       "version_major": 2,
       "version_minor": 0
      },
      "text/plain": [
       "FloatProgress(value=0.0, bar_style='info', description='Progress:', layout=Layout(height='25px', width='50%'),…"
      ]
     },
     "metadata": {},
     "output_type": "display_data"
    },
    {
     "name": "stdout",
     "output_type": "stream",
     "text": [
      "+---+----+----+----+----+---+-----+----------+-----------+\n",
      "|_c0|unix|date|open|high|low|close|Volume BTC|Volume USDT|\n",
      "+---+----+----+----+----+---+-----+----------+-----------+\n",
      "+---+----+----+----+----+---+-----+----------+-----------+"
     ]
    }
   ],
   "source": [
    "#Making sure the row with missing value is gone\n",
    "(\n",
    "    df_clean\n",
    "    .where('unix == 12628117525348800')\n",
    "    .show()\n",
    ")"
   ]
  },
  {
   "cell_type": "markdown",
   "id": "1cf575ec",
   "metadata": {},
   "source": [
    "The row with missing value is gone now."
   ]
  },
  {
   "cell_type": "markdown",
   "id": "35f6c77f",
   "metadata": {},
   "source": [
    "3. Descriptive statistics"
   ]
  },
  {
   "cell_type": "code",
   "execution_count": 14,
   "id": "d9c708cf",
   "metadata": {},
   "outputs": [
    {
     "data": {
      "application/vnd.jupyter.widget-view+json": {
       "model_id": "ca9be8fe28144520b32c4aae4b8b4cf7",
       "version_major": 2,
       "version_minor": 0
      },
      "text/plain": [
       "VBox()"
      ]
     },
     "metadata": {},
     "output_type": "display_data"
    },
    {
     "data": {
      "application/vnd.jupyter.widget-view+json": {
       "model_id": "",
       "version_major": 2,
       "version_minor": 0
      },
      "text/plain": [
       "FloatProgress(value=0.0, bar_style='info', description='Progress:', layout=Layout(height='25px', width='50%'),…"
      ]
     },
     "metadata": {},
     "output_type": "display_data"
    },
    {
     "name": "stdout",
     "output_type": "stream",
     "text": [
      "+-------+------------------+------------------+------------------+------------------+------------------+--------------------+\n",
      "|summary|              open|              high|               low|             close|        Volume BTC|         Volume USDT|\n",
      "+-------+------------------+------------------+------------------+------------------+------------------+--------------------+\n",
      "|  count|             36398|             36398|             36398|             36398|             36398|               36398|\n",
      "|   mean|13120.069673883087|13204.242118523503|13028.154706851528|13120.816202538523|2053.1953182674024|3.4907045227178924E7|\n",
      "| stddev|12881.304946143066|12976.523164661266| 12777.51927864699|12881.777058786858|2161.3366843687263| 6.441459880648473E7|\n",
      "|    min|            2919.0|            2950.0|            2817.0|            2919.0|               0.0|                 0.0|\n",
      "|    max|          64577.25|           64854.0|           64280.0|          64577.26|          47255.76|   1.5144648252185E9|\n",
      "+-------+------------------+------------------+------------------+------------------+------------------+--------------------+"
     ]
    }
   ],
   "source": [
    "#Describe numeric features:\n",
    "numeric = ['open','high','low','close','Volume BTC','Volume USDT']\n",
    "descriptive_stats = df_clean.describe(numeric)\n",
    "descriptive_stats.show(10)"
   ]
  },
  {
   "cell_type": "markdown",
   "id": "8099d9a8",
   "metadata": {},
   "source": [
    "- Count: Each column has 36,398 values.\\\n",
    "- Mean: The means of open, high, low, close prices range from 13,028 to approximately 13,204 dollars. The difference between the means of high and low in an 1 hour is $176. On average, 2,053 BTCs and 34,907,045 USDT are being traded during the time period.\\\n",
    "- Standard deviation: Standard deviation gives a view of how widely values are dispersed from the average value. For example, if standard deviation of price is high, this indicates the price volatility. On the other hand, if the closing prices are close and do not fluctuate much from the average mean price, standard deviation is less and the markets volatility is considered less as well.\\\n",
    "- Min: This gives the min/lowest value of each column.\\\n",
    "- Max: This gives the max/highest value of each column."
   ]
  },
  {
   "cell_type": "markdown",
   "id": "68012eca",
   "metadata": {},
   "source": [
    "Because unix and date data do not show anything meaningful, we do not do descriptive statistics on them."
   ]
  },
  {
   "cell_type": "markdown",
   "id": "3cc803f5",
   "metadata": {},
   "source": [
    "4. Visualization"
   ]
  },
  {
   "cell_type": "markdown",
   "id": "403dfe3f",
   "metadata": {},
   "source": [
    "Histogram of Close"
   ]
  },
  {
   "cell_type": "code",
   "execution_count": 15,
   "id": "e08d492a",
   "metadata": {},
   "outputs": [
    {
     "data": {
      "application/vnd.jupyter.widget-view+json": {
       "model_id": "5851cf184bd84d9cb6230abc3204e56e",
       "version_major": 2,
       "version_minor": 0
      },
      "text/plain": [
       "VBox()"
      ]
     },
     "metadata": {},
     "output_type": "display_data"
    },
    {
     "data": {
      "application/vnd.jupyter.widget-view+json": {
       "model_id": "",
       "version_major": 2,
       "version_minor": 0
      },
      "text/plain": [
       "FloatProgress(value=0.0, bar_style='info', description='Progress:', layout=Layout(height='25px', width='50%'),…"
      ]
     },
     "metadata": {},
     "output_type": "display_data"
    },
    {
     "name": "stdout",
     "output_type": "stream",
     "text": [
      "[2919.0,6001.91)\n",
      "[6001.91,9084.83)\n",
      "[9084.83,12167.74)\n",
      "[12167.74,15250.65)\n",
      "[15250.65,18333.57)\n",
      "[18333.57,21416.48)\n",
      "[21416.48,24499.39)\n",
      "[24499.39,27582.3)\n",
      "[27582.3,30665.22)\n",
      "[30665.22,33748.13)\n",
      "[33748.13,36831.04)\n",
      "[36831.04,39913.96)\n",
      "[39913.96,42996.87)\n",
      "[42996.87,46079.78)\n",
      "[46079.78,49162.69)\n",
      "[49162.69,52245.61)\n",
      "[52245.61,55328.52)\n",
      "[55328.52,58411.43)\n",
      "[58411.43,61494.35)\n",
      "[61494.35,64577.26)"
     ]
    }
   ],
   "source": [
    "#generate bins and count of each bin\n",
    "histogram_close = (\n",
    "    df_clean\n",
    "    .select('close')\n",
    "    .rdd\n",
    "    .flatMap(lambda record: record)\n",
    "    .histogram(20)\n",
    ")\n",
    "histogram_close\n",
    "#display bin ranges\n",
    "for i in range(len(histogram_close[0])-1):\n",
    "    print('[' + str(round(histogram_close[0][i],2))\n",
    "        + ',' + str(round(histogram_close[0][i+1],2))\n",
    "          + ')'\n",
    "         )"
   ]
  },
  {
   "cell_type": "code",
   "execution_count": 16,
   "id": "69f5705f",
   "metadata": {},
   "outputs": [
    {
     "data": {
      "application/vnd.jupyter.widget-view+json": {
       "model_id": "",
       "version_major": 2,
       "version_minor": 0
      },
      "text/plain": [
       "FloatProgress(value=0.0, bar_style='info', description='Progress:', layout=Layout(height='25px', width='50%'),…"
      ]
     },
     "metadata": {},
     "output_type": "display_data"
    },
    {
     "data": {
      "image/png": "[encoded data removed]",
      "text/plain": [
       "<IPython.core.display.Image object>"
      ]
     },
     "metadata": {},
     "output_type": "display_data"
    },
    {
     "data": {
      "application/vnd.jupyter.widget-view+json": {
       "model_id": "",
       "version_major": 2,
       "version_minor": 0
      },
      "text/plain": [
       "FloatProgress(value=0.0, bar_style='info', description='Progress:', layout=Layout(height='25px', width='50%'),…"
      ]
     },
     "metadata": {},
     "output_type": "display_data"
    }
   ],
   "source": [
    "%%spark -o hist_close \n",
    "hist_close =  spark.createDataFrame(\n",
    "    list(zip(*histogram_close)), \n",
    "    ['close', 'counts'])\n",
    "import matplotlib\n",
    "import matplotlib.pyplot as plt\n",
    "hist_close.toPandas().set_index('close'\n",
    "            ).plot(kind='bar')\n",
    "%matplot plt"
   ]
  },
  {
   "cell_type": "markdown",
   "id": "104b5b92",
   "metadata": {},
   "source": [
    "According to this histogram, close prices mostly range from 2,919 to 12,167. Some are between 30,665 and 39,913, and between 46,079 and 61,494. Close prices range from 6,001 to 9,084 for approximately 12,000 times. The distribution of close prices is right-skewed. This indicates that the likelihood of an extremely large price is somewhat greater than the likelihood of an extremely low price. The close prices of BTC/USDT are not normally distributed."
   ]
  },
  {
   "cell_type": "markdown",
   "id": "2258b3bb",
   "metadata": {},
   "source": [
    "Histogram of High"
   ]
  },
  {
   "cell_type": "code",
   "execution_count": 17,
   "id": "12ef17da",
   "metadata": {},
   "outputs": [
    {
     "data": {
      "application/vnd.jupyter.widget-view+json": {
       "model_id": "5af0303ef95b42ed920101470d817fb4",
       "version_major": 2,
       "version_minor": 0
      },
      "text/plain": [
       "VBox()"
      ]
     },
     "metadata": {},
     "output_type": "display_data"
    },
    {
     "data": {
      "application/vnd.jupyter.widget-view+json": {
       "model_id": "",
       "version_major": 2,
       "version_minor": 0
      },
      "text/plain": [
       "FloatProgress(value=0.0, bar_style='info', description='Progress:', layout=Layout(height='25px', width='50%'),…"
      ]
     },
     "metadata": {},
     "output_type": "display_data"
    },
    {
     "name": "stdout",
     "output_type": "stream",
     "text": [
      "[2950.0,6045.2)\n",
      "[6045.2,9140.4)\n",
      "[9140.4,12235.6)\n",
      "[12235.6,15330.8)\n",
      "[15330.8,18426.0)\n",
      "[18426.0,21521.2)\n",
      "[21521.2,24616.4)\n",
      "[24616.4,27711.6)\n",
      "[27711.6,30806.8)\n",
      "[30806.8,33902.0)\n",
      "[33902.0,36997.2)\n",
      "[36997.2,40092.4)\n",
      "[40092.4,43187.6)\n",
      "[43187.6,46282.8)\n",
      "[46282.8,49378.0)\n",
      "[49378.0,52473.2)\n",
      "[52473.2,55568.4)\n",
      "[55568.4,58663.6)\n",
      "[58663.6,61758.8)\n",
      "[61758.8,64854.0)"
     ]
    }
   ],
   "source": [
    "histogram_high = (\n",
    "    df_clean\n",
    "    .select('high')\n",
    "    .rdd\n",
    "    .flatMap(lambda record: record)\n",
    "    .histogram(20)\n",
    ")\n",
    "for i in range(len(histogram_high[0])-1):\n",
    "    print('[' + str(round(histogram_high[0][i],2))\n",
    "        + ',' + str(round(histogram_high[0][i+1],2))\n",
    "          + ')'\n",
    "         )"
   ]
  },
  {
   "cell_type": "code",
   "execution_count": 18,
   "id": "5d9ca5f9",
   "metadata": {},
   "outputs": [
    {
     "data": {
      "application/vnd.jupyter.widget-view+json": {
       "model_id": "",
       "version_major": 2,
       "version_minor": 0
      },
      "text/plain": [
       "FloatProgress(value=0.0, bar_style='info', description='Progress:', layout=Layout(height='25px', width='50%'),…"
      ]
     },
     "metadata": {},
     "output_type": "display_data"
    },
    {
     "data": {
      "image/png": "[encoded data removed]",
      "text/plain": [
       "<IPython.core.display.Image object>"
      ]
     },
     "metadata": {},
     "output_type": "display_data"
    },
    {
     "data": {
      "application/vnd.jupyter.widget-view+json": {
       "model_id": "",
       "version_major": 2,
       "version_minor": 0
      },
      "text/plain": [
       "FloatProgress(value=0.0, bar_style='info', description='Progress:', layout=Layout(height='25px', width='50%'),…"
      ]
     },
     "metadata": {},
     "output_type": "display_data"
    }
   ],
   "source": [
    "%%spark -o hist_high\n",
    "hist_high =  spark.createDataFrame(\n",
    "    list(zip(*histogram_high)), \n",
    "    ['high', 'counts'])\n",
    "import matplotlib\n",
    "import matplotlib.pyplot as plt\n",
    "hist_high.toPandas().set_index('high'\n",
    "            ).plot(kind='bar')\n",
    "%matplot plt"
   ]
  },
  {
   "cell_type": "markdown",
   "id": "3346b32b",
   "metadata": {},
   "source": [
    "High prices mostly range from 2,950 to 12,235. Some are between 30,806 and 40,092, and between 46,282 and 61,758. High prices range from 6,045 to 9,140 for approximately 12,000 times. The distribution of high prices is right-skewed. This indicates that the likelihood of an extremely large price is somewhat greater than the likelihood of an extremely low price. The high prices of BTC/USDT are not normally distributed."
   ]
  },
  {
   "cell_type": "markdown",
   "id": "10a1cc7b",
   "metadata": {},
   "source": [
    "Histogram of low"
   ]
  },
  {
   "cell_type": "code",
   "execution_count": 19,
   "id": "5dd6dcf3",
   "metadata": {},
   "outputs": [
    {
     "data": {
      "application/vnd.jupyter.widget-view+json": {
       "model_id": "7278946ef1e14b7fbac3f9abadcebaaf",
       "version_major": 2,
       "version_minor": 0
      },
      "text/plain": [
       "VBox()"
      ]
     },
     "metadata": {},
     "output_type": "display_data"
    },
    {
     "data": {
      "application/vnd.jupyter.widget-view+json": {
       "model_id": "",
       "version_major": 2,
       "version_minor": 0
      },
      "text/plain": [
       "FloatProgress(value=0.0, bar_style='info', description='Progress:', layout=Layout(height='25px', width='50%'),…"
      ]
     },
     "metadata": {},
     "output_type": "display_data"
    },
    {
     "name": "stdout",
     "output_type": "stream",
     "text": [
      "[2817.0,5890.15)\n",
      "[5890.15,8963.3)\n",
      "[8963.3,12036.45)\n",
      "[12036.45,15109.6)\n",
      "[15109.6,18182.75)\n",
      "[18182.75,21255.9)\n",
      "[21255.9,24329.05)\n",
      "[24329.05,27402.2)\n",
      "[27402.2,30475.35)\n",
      "[30475.35,33548.5)\n",
      "[33548.5,36621.65)\n",
      "[36621.65,39694.8)\n",
      "[39694.8,42767.95)\n",
      "[42767.95,45841.1)\n",
      "[45841.1,48914.25)\n",
      "[48914.25,51987.4)\n",
      "[51987.4,55060.55)\n",
      "[55060.55,58133.7)\n",
      "[58133.7,61206.85)\n",
      "[61206.85,64280.0)"
     ]
    }
   ],
   "source": [
    "histogram_low = (\n",
    "    df_clean\n",
    "    .select('low')\n",
    "    .rdd\n",
    "    .flatMap(lambda record: record)\n",
    "    .histogram(20)\n",
    ")\n",
    "for i in range(len(histogram_low[0])-1):\n",
    "    print('[' + str(round(histogram_low[0][i],2))\n",
    "        + ',' + str(round(histogram_low[0][i+1],2))\n",
    "          + ')'\n",
    "         )"
   ]
  },
  {
   "cell_type": "code",
   "execution_count": 20,
   "id": "b6eb57e5",
   "metadata": {},
   "outputs": [
    {
     "data": {
      "application/vnd.jupyter.widget-view+json": {
       "model_id": "",
       "version_major": 2,
       "version_minor": 0
      },
      "text/plain": [
       "FloatProgress(value=0.0, bar_style='info', description='Progress:', layout=Layout(height='25px', width='50%'),…"
      ]
     },
     "metadata": {},
     "output_type": "display_data"
    },
    {
     "data": {
      "image/png": "[encoded data removed]",
      "text/plain": [
       "<IPython.core.display.Image object>"
      ]
     },
     "metadata": {},
     "output_type": "display_data"
    },
    {
     "data": {
      "application/vnd.jupyter.widget-view+json": {
       "model_id": "",
       "version_major": 2,
       "version_minor": 0
      },
      "text/plain": [
       "FloatProgress(value=0.0, bar_style='info', description='Progress:', layout=Layout(height='25px', width='50%'),…"
      ]
     },
     "metadata": {},
     "output_type": "display_data"
    }
   ],
   "source": [
    "%%spark -o hist_low\n",
    "hist_low =  spark.createDataFrame(\n",
    "    list(zip(*histogram_low)), \n",
    "    ['low', 'counts'])\n",
    "import matplotlib\n",
    "import matplotlib.pyplot as plt\n",
    "hist_low.toPandas().set_index('low'\n",
    "            ).plot(kind='bar')\n",
    "%matplot plt"
   ]
  },
  {
   "cell_type": "markdown",
   "id": "7562a8af",
   "metadata": {},
   "source": [
    "Low prices mostly range from 2,817 to 12,036. Some are between 30,475 and 39,694, and between 45,841 and 61,206. Low prices range from 5,890 to 8,963 for approximately 12,000 times. The distribution of low prices is right-skewed. This indicates that the likelihood of an extremely large price is somewhat greater than the likelihood of an extremely low price. The low prices of BTC/USDT are not normally distributed."
   ]
  },
  {
   "cell_type": "markdown",
   "id": "13c3b431",
   "metadata": {},
   "source": [
    "Histogram of open"
   ]
  },
  {
   "cell_type": "code",
   "execution_count": 21,
   "id": "c8cb911c",
   "metadata": {},
   "outputs": [
    {
     "data": {
      "application/vnd.jupyter.widget-view+json": {
       "model_id": "3f5a59f40e1549c98faeac354d2775f9",
       "version_major": 2,
       "version_minor": 0
      },
      "text/plain": [
       "VBox()"
      ]
     },
     "metadata": {},
     "output_type": "display_data"
    },
    {
     "data": {
      "application/vnd.jupyter.widget-view+json": {
       "model_id": "",
       "version_major": 2,
       "version_minor": 0
      },
      "text/plain": [
       "FloatProgress(value=0.0, bar_style='info', description='Progress:', layout=Layout(height='25px', width='50%'),…"
      ]
     },
     "metadata": {},
     "output_type": "display_data"
    },
    {
     "name": "stdout",
     "output_type": "stream",
     "text": [
      "[2919.0,6001.91)\n",
      "[6001.91,9084.83)\n",
      "[9084.83,12167.74)\n",
      "[12167.74,15250.65)\n",
      "[15250.65,18333.56)\n",
      "[18333.56,21416.47)\n",
      "[21416.47,24499.39)\n",
      "[24499.39,27582.3)\n",
      "[27582.3,30665.21)\n",
      "[30665.21,33748.12)\n",
      "[33748.12,36831.04)\n",
      "[36831.04,39913.95)\n",
      "[39913.95,42996.86)\n",
      "[42996.86,46079.78)\n",
      "[46079.78,49162.69)\n",
      "[49162.69,52245.6)\n",
      "[52245.6,55328.51)\n",
      "[55328.51,58411.42)\n",
      "[58411.42,61494.34)\n",
      "[61494.34,64577.25)"
     ]
    }
   ],
   "source": [
    "histogram_open = (\n",
    "    df_clean\n",
    "    .select('open')\n",
    "    .rdd\n",
    "    .flatMap(lambda record: record)\n",
    "    .histogram(20)\n",
    ")\n",
    "for i in range(len(histogram_open[0])-1):\n",
    "    print('[' + str(round(histogram_open[0][i],2))\n",
    "        + ',' + str(round(histogram_open[0][i+1],2))\n",
    "          + ')'\n",
    "         )"
   ]
  },
  {
   "cell_type": "code",
   "execution_count": 22,
   "id": "db7c7f53",
   "metadata": {},
   "outputs": [
    {
     "data": {
      "application/vnd.jupyter.widget-view+json": {
       "model_id": "",
       "version_major": 2,
       "version_minor": 0
      },
      "text/plain": [
       "FloatProgress(value=0.0, bar_style='info', description='Progress:', layout=Layout(height='25px', width='50%'),…"
      ]
     },
     "metadata": {},
     "output_type": "display_data"
    },
    {
     "data": {
      "image/png": "[encoded data removed]",
      "text/plain": [
       "<IPython.core.display.Image object>"
      ]
     },
     "metadata": {},
     "output_type": "display_data"
    },
    {
     "data": {
      "application/vnd.jupyter.widget-view+json": {
       "model_id": "",
       "version_major": 2,
       "version_minor": 0
      },
      "text/plain": [
       "FloatProgress(value=0.0, bar_style='info', description='Progress:', layout=Layout(height='25px', width='50%'),…"
      ]
     },
     "metadata": {},
     "output_type": "display_data"
    }
   ],
   "source": [
    "%%spark -o hist_open\n",
    "hist_open =  spark.createDataFrame(\n",
    "    list(zip(*histogram_open)), \n",
    "    ['open', 'counts'])\n",
    "import matplotlib\n",
    "import matplotlib.pyplot as plt\n",
    "hist_open.toPandas().set_index('open'\n",
    "            ).plot(kind='bar')\n",
    "%matplot plt"
   ]
  },
  {
   "cell_type": "markdown",
   "id": "99dfa5c8",
   "metadata": {},
   "source": [
    "Open prices mostly range from 2,919 to 12,167. Some are between 30,665 and 39,913, and between 46,079 and 61,494. Open prices range from 6,001 to 9,084 for approximately 12,000 times. The distribution of open prices is right-skewed. This indicates that the likelihood of an extremely large price is somewhat greater than the likelihood of an extremely low price. The low prices of BTC/USDT are not normally distributed."
   ]
  },
  {
   "cell_type": "markdown",
   "id": "85af9877",
   "metadata": {},
   "source": [
    "Histogram of Volume BTC"
   ]
  },
  {
   "cell_type": "code",
   "execution_count": 23,
   "id": "0fc9a3b5",
   "metadata": {},
   "outputs": [
    {
     "data": {
      "application/vnd.jupyter.widget-view+json": {
       "model_id": "0816f5f437224de1ab7ac6848ef0f653",
       "version_major": 2,
       "version_minor": 0
      },
      "text/plain": [
       "VBox()"
      ]
     },
     "metadata": {},
     "output_type": "display_data"
    },
    {
     "data": {
      "application/vnd.jupyter.widget-view+json": {
       "model_id": "",
       "version_major": 2,
       "version_minor": 0
      },
      "text/plain": [
       "FloatProgress(value=0.0, bar_style='info', description='Progress:', layout=Layout(height='25px', width='50%'),…"
      ]
     },
     "metadata": {},
     "output_type": "display_data"
    },
    {
     "name": "stdout",
     "output_type": "stream",
     "text": [
      "[0.0,1575.19)\n",
      "[1575.19,3150.38)\n",
      "[3150.38,4725.58)\n",
      "[4725.58,6300.77)\n",
      "[6300.77,7875.96)\n",
      "[7875.96,9451.15)\n",
      "[9451.15,11026.34)\n",
      "[11026.34,12601.54)\n",
      "[12601.54,14176.73)\n",
      "[14176.73,15751.92)\n",
      "[15751.92,17327.11)\n",
      "[17327.11,18902.3)\n",
      "[18902.3,20477.5)\n",
      "[20477.5,22052.69)\n",
      "[22052.69,23627.88)\n",
      "[23627.88,25203.07)\n",
      "[25203.07,26778.26)\n",
      "[26778.26,28353.46)\n",
      "[28353.46,29928.65)\n",
      "[29928.65,31503.84)\n",
      "[31503.84,33079.03)\n",
      "[33079.03,34654.22)\n",
      "[34654.22,36229.42)\n",
      "[36229.42,37804.61)\n",
      "[37804.61,39379.8)\n",
      "[39379.8,40954.99)\n",
      "[40954.99,42530.18)\n",
      "[42530.18,44105.38)\n",
      "[44105.38,45680.57)\n",
      "[45680.57,47255.76)"
     ]
    }
   ],
   "source": [
    "histogram_volBTC = (\n",
    "    df_clean\n",
    "    .select('Volume BTC')\n",
    "    .rdd\n",
    "    .flatMap(lambda record: record)\n",
    "    .histogram(30)\n",
    ")\n",
    "for i in range(len(histogram_volBTC[0])-1):\n",
    "    print('[' + str(round(histogram_volBTC[0][i],2))\n",
    "        + ',' + str(round(histogram_volBTC[0][i+1],2))\n",
    "          + ')'\n",
    "         )"
   ]
  },
  {
   "cell_type": "code",
   "execution_count": 24,
   "id": "de97c637",
   "metadata": {},
   "outputs": [
    {
     "data": {
      "application/vnd.jupyter.widget-view+json": {
       "model_id": "",
       "version_major": 2,
       "version_minor": 0
      },
      "text/plain": [
       "FloatProgress(value=0.0, bar_style='info', description='Progress:', layout=Layout(height='25px', width='50%'),…"
      ]
     },
     "metadata": {},
     "output_type": "display_data"
    },
    {
     "data": {
      "image/png": "[encoded data removed]",
      "text/plain": [
       "<IPython.core.display.Image object>"
      ]
     },
     "metadata": {},
     "output_type": "display_data"
    },
    {
     "data": {
      "application/vnd.jupyter.widget-view+json": {
       "model_id": "",
       "version_major": 2,
       "version_minor": 0
      },
      "text/plain": [
       "FloatProgress(value=0.0, bar_style='info', description='Progress:', layout=Layout(height='25px', width='50%'),…"
      ]
     },
     "metadata": {},
     "output_type": "display_data"
    }
   ],
   "source": [
    "%%spark -o hist_volBTC\n",
    "hist_volBTC =  spark.createDataFrame(\n",
    "    list(zip(*histogram_volBTC)), \n",
    "    ['Volume BTC', 'counts'])\n",
    "import matplotlib\n",
    "import matplotlib.pyplot as plt\n",
    "hist_volBTC.toPandas().set_index('Volume BTC'\n",
    "            ).plot(kind='bar')\n",
    "%matplot plt"
   ]
  },
  {
   "cell_type": "markdown",
   "id": "48e6f2df",
   "metadata": {},
   "source": [
    "The distribution of Volume BTC is positively skewed. Most Volume BTC are between 0 and 3,150. In 1 hour, approximately 0 to 1,575 BTC were traded with the higest frequency of 19,000."
   ]
  },
  {
   "cell_type": "markdown",
   "id": "04234115",
   "metadata": {},
   "source": [
    "Histogram of USDT"
   ]
  },
  {
   "cell_type": "code",
   "execution_count": 25,
   "id": "3037094c",
   "metadata": {},
   "outputs": [
    {
     "data": {
      "application/vnd.jupyter.widget-view+json": {
       "model_id": "02e7fe609ffa4fa28725b6bd127c738c",
       "version_major": 2,
       "version_minor": 0
      },
      "text/plain": [
       "VBox()"
      ]
     },
     "metadata": {},
     "output_type": "display_data"
    },
    {
     "data": {
      "application/vnd.jupyter.widget-view+json": {
       "model_id": "",
       "version_major": 2,
       "version_minor": 0
      },
      "text/plain": [
       "FloatProgress(value=0.0, bar_style='info', description='Progress:', layout=Layout(height='25px', width='50%'),…"
      ]
     },
     "metadata": {},
     "output_type": "display_data"
    },
    {
     "name": "stdout",
     "output_type": "stream",
     "text": [
      "[0.0,50482160.84)\n",
      "[50482160.84,100964321.68)\n",
      "[100964321.68,151446482.52)\n",
      "[151446482.52,201928643.36)\n",
      "[201928643.36,252410804.2)\n",
      "[252410804.2,302892965.04)\n",
      "[302892965.04,353375125.88)\n",
      "[353375125.88,403857286.72)\n",
      "[403857286.72,454339447.57)\n",
      "[454339447.57,504821608.41)\n",
      "[504821608.41,555303769.25)\n",
      "[555303769.25,605785930.09)\n",
      "[605785930.09,656268090.93)\n",
      "[656268090.93,706750251.77)\n",
      "[706750251.77,757232412.61)\n",
      "[757232412.61,807714573.45)\n",
      "[807714573.45,858196734.29)\n",
      "[858196734.29,908678895.13)\n",
      "[908678895.13,959161055.97)\n",
      "[959161055.97,1009643216.81)\n",
      "[1009643216.81,1060125377.65)\n",
      "[1060125377.65,1110607538.49)\n",
      "[1110607538.49,1161089699.33)\n",
      "[1161089699.33,1211571860.17)\n",
      "[1211571860.17,1262054021.02)\n",
      "[1262054021.02,1312536181.86)\n",
      "[1312536181.86,1363018342.7)\n",
      "[1363018342.7,1413500503.54)\n",
      "[1413500503.54,1463982664.38)\n",
      "[1463982664.38,1514464825.22)"
     ]
    }
   ],
   "source": [
    "histogram_volUSDT = (\n",
    "    df_clean\n",
    "    .select('Volume USDT')\n",
    "    .rdd\n",
    "    .flatMap(lambda record: record)\n",
    "    .histogram(30)\n",
    ")\n",
    "for i in range(len(histogram_volUSDT[0])-1):\n",
    "    print('[' + str(round(histogram_volUSDT[0][i],2))\n",
    "        + ',' + str(round(histogram_volUSDT[0][i+1],2))\n",
    "          + ')'\n",
    "         )"
   ]
  },
  {
   "cell_type": "code",
   "execution_count": 26,
   "id": "f7a1e8ae",
   "metadata": {},
   "outputs": [
    {
     "data": {
      "application/vnd.jupyter.widget-view+json": {
       "model_id": "",
       "version_major": 2,
       "version_minor": 0
      },
      "text/plain": [
       "FloatProgress(value=0.0, bar_style='info', description='Progress:', layout=Layout(height='25px', width='50%'),…"
      ]
     },
     "metadata": {},
     "output_type": "display_data"
    },
    {
     "data": {
      "image/png": "[encoded data removed]",
      "text/plain": [
       "<IPython.core.display.Image object>"
      ]
     },
     "metadata": {},
     "output_type": "display_data"
    },
    {
     "data": {
      "application/vnd.jupyter.widget-view+json": {
       "model_id": "",
       "version_major": 2,
       "version_minor": 0
      },
      "text/plain": [
       "FloatProgress(value=0.0, bar_style='info', description='Progress:', layout=Layout(height='25px', width='50%'),…"
      ]
     },
     "metadata": {},
     "output_type": "display_data"
    }
   ],
   "source": [
    "%%spark -o hist_volUSDT\n",
    "hist_volUSDT =  spark.createDataFrame(\n",
    "    list(zip(*histogram_volUSDT)), \n",
    "    ['Volume USDT', 'counts'])\n",
    "import matplotlib\n",
    "import matplotlib.pyplot as plt\n",
    "hist_volUSDT.toPandas().set_index('Volume USDT'\n",
    "            ).plot(kind='bar')\n",
    "%matplot plt"
   ]
  },
  {
   "cell_type": "markdown",
   "id": "67feb683",
   "metadata": {},
   "source": [
    "The distribution of Volume USDT is positively skewed. Most Volume USDT are between 0 and 50,482,160 with the higest frequency of 30,000."
   ]
  },
  {
   "cell_type": "code",
   "execution_count": null,
   "id": "243216b4",
   "metadata": {},
   "outputs": [
    {
     "data": {
      "application/vnd.jupyter.widget-view+json": {
       "model_id": "7c7c187b71d441a7970ea28993dd677b",
       "version_major": 2,
       "version_minor": 0
      },
      "text/plain": [
       "VBox()"
      ]
     },
     "metadata": {},
     "output_type": "display_data"
    },
    {
     "data": {
      "application/vnd.jupyter.widget-view+json": {
       "model_id": "49682a3ee89045ffa291abccf5638924",
       "version_major": 2,
       "version_minor": 0
      },
      "text/plain": [
       "FloatProgress(value=0.0, bar_style='info', description='Progress:', layout=Layout(height='25px', width='50%'),…"
      ]
     },
     "metadata": {},
     "output_type": "display_data"
    }
   ],
   "source": [
    "df_pd = df_clean.toPandas()"
   ]
  },
  {
   "cell_type": "code",
   "execution_count": null,
   "id": "cc70e824",
   "metadata": {},
   "outputs": [],
   "source": [
    "#Scatter Plot for Low and Volume BTC\n",
    "import matplotlib.pyplot as plt\n",
    "plt.cla()\n",
    "plt.scatter(df_pd['low']\n",
    "         , df_pd['Volume BTC'], \n",
    "            label=\"Relationship between low and Volume BTC\")\n",
    "plt.xlabel(\"low\")\n",
    "plt.ylabel(\"Volume BTC\")\n",
    "plt.legend(loc='upper left')\n",
    "%matplot plt"
   ]
  },
  {
   "cell_type": "markdown",
   "id": "01d4f2b2",
   "metadata": {},
   "source": [
    "The relationship between Low and Volume BTC is cointigrated. Most of the time, a big increase in Low will cause Volume BTC to increase and a big decrease in Low will cause Volume BTC to decrease. By looking at the chart, we can see some outliers at the range above 30,000."
   ]
  },
  {
   "cell_type": "code",
   "execution_count": null,
   "id": "eeba090f",
   "metadata": {},
   "outputs": [],
   "source": [
    "#Scatter Plot for High and Volume BTC\n",
    "import matplotlib.pyplot as plt\n",
    "plt.cla()\n",
    "plt.scatter(df_pd['high']\n",
    "         , df_pd['Volume BTC'], \n",
    "            label=\"Relationship between high and Volume BTC\")\n",
    "plt.xlabel(\"high\")\n",
    "plt.ylabel(\"Volume BTC\")\n",
    "plt.legend(loc='upper left')\n",
    "%matplot plt"
   ]
  },
  {
   "cell_type": "markdown",
   "id": "f740001e",
   "metadata": {},
   "source": [
    "The relationship between High and Volume BTC is cointigrated. Most of the time, a big increase in High will cause Volume BTC to increase and a big decrease in High will cause Volume BTC to decrease. By looking at the chart, we can see some outliers at the range above 30,000."
   ]
  },
  {
   "cell_type": "code",
   "execution_count": null,
   "id": "72c49f15",
   "metadata": {},
   "outputs": [],
   "source": [
    "#Scatter Plot for close and Volume BTC\n",
    "import matplotlib.pyplot as plt\n",
    "plt.cla()\n",
    "plt.scatter(df_pd['close']\n",
    "         , df_pd['Volume BTC'], \n",
    "            label=\"Relationship between close and Volume BTC\")\n",
    "plt.xlabel(\"close\")\n",
    "plt.ylabel(\"Volume BTC\")\n",
    "plt.legend(loc='upper left')\n",
    "%matplot plt"
   ]
  },
  {
   "cell_type": "markdown",
   "id": "520240d4",
   "metadata": {},
   "source": [
    "The relationship between Close and Volume BTC is cointigrated. Most of the time, a big increase in Close will cause Volume BTC to increase and a big decrease in Close will cause Volume BTC to decrease."
   ]
  },
  {
   "cell_type": "code",
   "execution_count": null,
   "id": "e414f42c",
   "metadata": {},
   "outputs": [],
   "source": [
    "#Scatter Plot for Volume BTC and Volume USDT\n",
    "import matplotlib.pyplot as plt\n",
    "plt.cla()\n",
    "plt.scatter(df_pd['Volume BTC']\n",
    "         , df_pd['Volume USDT'], \n",
    "            label=\"Relationship between Volume BTC and Volume USDT\")\n",
    "plt.xlabel(\"Volume BTC\")\n",
    "plt.ylabel(\"Volume USDT\")\n",
    "plt.legend(loc='upper left')\n",
    "%matplot plt"
   ]
  },
  {
   "cell_type": "markdown",
   "id": "313bbf21",
   "metadata": {},
   "source": [
    "The BTC Volume and the USDT volume are positive correlated. Because of the exchange rate between BTC and USDT, they go in slightly different direction."
   ]
  },
  {
   "cell_type": "markdown",
   "id": "ea43b223",
   "metadata": {},
   "source": [
    "5. Outlier analysis"
   ]
  },
  {
   "cell_type": "markdown",
   "id": "f8d2f5cd",
   "metadata": {},
   "source": [
    "Identify outliers based on visualization:\\\n",
    "As we can see from the charts, the outliers of Volume BTC are those above 30000, the outliers of Volume USDT are those above 1000000000, the outliers of prices (open, close, high, low) are those above 59000."
   ]
  },
  {
   "cell_type": "code",
   "execution_count": null,
   "id": "bc628f92",
   "metadata": {},
   "outputs": [],
   "source": [
    "#Filter outliers\n",
    "df_no_outlier = df_clean.where((df_clean['Volume BTC'] < 30000) & (df_clean['Volume USDT'] < 1000000000) & (df_clean['open'] < 59000) & (df_clean['close'] < 59000) &(df_clean['high'] < 59000) &(df_clean['low'] < 59000))"
   ]
  },
  {
   "cell_type": "markdown",
   "id": "39236bef",
   "metadata": {},
   "source": [
    "Approximately 1% of the data are outliers and were eliminated."
   ]
  },
  {
   "cell_type": "markdown",
   "id": "81571b7a",
   "metadata": {},
   "source": [
    "6."
   ]
  },
  {
   "cell_type": "code",
   "execution_count": null,
   "id": "ba76f0d7",
   "metadata": {},
   "outputs": [],
   "source": [
    "#Rerun descriptive statistics\n",
    "stat_no_outlier = df_no_outlier.describe(numeric)\n",
    "stat_no_outlier.show(10)"
   ]
  },
  {
   "cell_type": "markdown",
   "id": "63a4aedb",
   "metadata": {},
   "source": [
    "Redraw histograms"
   ]
  },
  {
   "cell_type": "markdown",
   "id": "97a0adf6",
   "metadata": {},
   "source": [
    "Histogram of numeric features"
   ]
  },
  {
   "cell_type": "markdown",
   "id": "7b1b886e",
   "metadata": {},
   "source": [
    "Histogram of close price"
   ]
  },
  {
   "cell_type": "code",
   "execution_count": null,
   "id": "c978484f",
   "metadata": {},
   "outputs": [],
   "source": [
    "#generate bins and count of each bin\n",
    "histogram_close1 = (\n",
    "    df_no_outlier\n",
    "    .select('close')\n",
    "    .rdd\n",
    "    .flatMap(lambda record: record)\n",
    "    .histogram(20)\n",
    ")\n",
    "histogram_close1\n",
    "#display bin ranges\n",
    "for i in range(len(histogram_close1[0])-1):\n",
    "    print('[' + str(round(histogram_close1[0][i],2))\n",
    "        + ',' + str(round(histogram_close1[0][i+1],2))\n",
    "          + ')'\n",
    "         )"
   ]
  },
  {
   "cell_type": "code",
   "execution_count": null,
   "id": "6ed23ec2",
   "metadata": {},
   "outputs": [],
   "source": [
    "%%spark -o hist_close1 \n",
    "hist_close1 =  spark.createDataFrame(\n",
    "    list(zip(*histogram_close1)), \n",
    "    ['close', 'counts'])\n",
    "import matplotlib\n",
    "import matplotlib.pyplot as plt\n",
    "hist_close1.toPandas().set_index('close'\n",
    "            ).plot(kind='bar')\n",
    "%matplot plt"
   ]
  },
  {
   "cell_type": "markdown",
   "id": "c8b4dbb8",
   "metadata": {},
   "source": [
    "Histogram of open price"
   ]
  },
  {
   "cell_type": "code",
   "execution_count": null,
   "id": "e27b7153",
   "metadata": {},
   "outputs": [],
   "source": [
    "#generate bins and count of each bin\n",
    "histogram_open1 = (\n",
    "    df_no_outlier\n",
    "    .select('open')\n",
    "    .rdd\n",
    "    .flatMap(lambda record: record)\n",
    "    .histogram(20)\n",
    ")\n",
    "histogram_open1\n",
    "#display bin ranges\n",
    "for i in range(len(histogram_open1[0])-1):\n",
    "    print('[' + str(round(histogram_open1[0][i],2))\n",
    "        + ',' + str(round(histogram_open1[0][i+1],2))\n",
    "          + ')'\n",
    "         )"
   ]
  },
  {
   "cell_type": "code",
   "execution_count": null,
   "id": "55110d3c",
   "metadata": {},
   "outputs": [],
   "source": [
    "%%spark -o hist_open1 \n",
    "hist_open1 =  spark.createDataFrame(\n",
    "    list(zip(*histogram_open1)), \n",
    "    ['open', 'counts'])\n",
    "import matplotlib\n",
    "import matplotlib.pyplot as plt\n",
    "hist_open1.toPandas().set_index('open'\n",
    "            ).plot(kind='bar')\n",
    "%matplot plt"
   ]
  },
  {
   "cell_type": "markdown",
   "id": "f77c37b2",
   "metadata": {},
   "source": [
    "Histogram of low price"
   ]
  },
  {
   "cell_type": "code",
   "execution_count": null,
   "id": "c8fd47ad",
   "metadata": {},
   "outputs": [],
   "source": [
    "#generate bins and count of each bin\n",
    "histogram_low1 = (\n",
    "    df_no_outlier\n",
    "    .select('low')\n",
    "    .rdd\n",
    "    .flatMap(lambda record: record)\n",
    "    .histogram(20)\n",
    ")\n",
    "histogram_low1\n",
    "#display bin ranges\n",
    "for i in range(len(histogram_low1[0])-1):\n",
    "    print('[' + str(round(histogram_low1[0][i],2))\n",
    "        + ',' + str(round(histogram_low1[0][i+1],2))\n",
    "          + ')'\n",
    "         )"
   ]
  },
  {
   "cell_type": "code",
   "execution_count": null,
   "id": "c61df351",
   "metadata": {},
   "outputs": [],
   "source": [
    "%%spark -o hist_low1 \n",
    "hist_low1 =  spark.createDataFrame(\n",
    "    list(zip(*histogram_low1)), \n",
    "    ['low', 'counts'])\n",
    "import matplotlib\n",
    "import matplotlib.pyplot as plt\n",
    "hist_low1.toPandas().set_index('low'\n",
    "            ).plot(kind='bar')\n",
    "%matplot plt"
   ]
  },
  {
   "cell_type": "markdown",
   "id": "daa8c892",
   "metadata": {},
   "source": [
    "Histogram of high price"
   ]
  },
  {
   "cell_type": "code",
   "execution_count": null,
   "id": "9cc4b4cb",
   "metadata": {},
   "outputs": [],
   "source": [
    "#generate bins and count of each bin\n",
    "histogram_high1 = (\n",
    "    df_no_outlier\n",
    "    .select('high')\n",
    "    .rdd\n",
    "    .flatMap(lambda record: record)\n",
    "    .histogram(20)\n",
    ")\n",
    "histogram_high1\n",
    "#display bin ranges\n",
    "for i in range(len(histogram_high1[0])-1):\n",
    "    print('[' + str(round(histogram_high1[0][i],2))\n",
    "        + ',' + str(round(histogram_high1[0][i+1],2))\n",
    "          + ')'\n",
    "         )"
   ]
  },
  {
   "cell_type": "code",
   "execution_count": null,
   "id": "a4ee5047",
   "metadata": {},
   "outputs": [],
   "source": [
    "%%spark -o hist_high1\n",
    "hist_high1 =  spark.createDataFrame(\n",
    "    list(zip(*histogram_high1)), \n",
    "    ['high', 'counts'])\n",
    "import matplotlib\n",
    "import matplotlib.pyplot as plt\n",
    "hist_high1.toPandas().set_index('high'\n",
    "            ).plot(kind='bar')\n",
    "%matplot plt"
   ]
  },
  {
   "cell_type": "markdown",
   "id": "c2edfc93",
   "metadata": {},
   "source": [
    "Histogram of volume BTC"
   ]
  },
  {
   "cell_type": "code",
   "execution_count": null,
   "id": "21aad8a8",
   "metadata": {},
   "outputs": [],
   "source": [
    "#generate bins and count of each bin\n",
    "histogram_volumeBTC1 = (\n",
    "    df_no_outlier\n",
    "    .select('Volume BTC')\n",
    "    .rdd\n",
    "    .flatMap(lambda record: record)\n",
    "    .histogram(20)\n",
    ")\n",
    "histogram_volumeBTC1\n",
    "#display bin ranges\n",
    "for i in range(len(histogram_volumeBTC1[0])-1):\n",
    "    print('[' + str(round(histogram_volumeBTC1[0][i],2))\n",
    "        + ',' + str(round(histogram_volumeBTC1[0][i+1],2))\n",
    "          + ')'\n",
    "         )"
   ]
  },
  {
   "cell_type": "code",
   "execution_count": null,
   "id": "552b1472",
   "metadata": {},
   "outputs": [],
   "source": [
    "%%spark -o hist_volumeBTC1 \n",
    "hist_volumeBTC1 =  spark.createDataFrame(\n",
    "    list(zip(*histogram_volumeBTC1)), \n",
    "    ['Volume BTC', 'counts'])\n",
    "import matplotlib\n",
    "import matplotlib.pyplot as plt\n",
    "hist_volumeBTC1.toPandas().set_index('Volume BTC'\n",
    "            ).plot(kind='bar')\n",
    "%matplot plt"
   ]
  },
  {
   "cell_type": "markdown",
   "id": "1cf38c1b",
   "metadata": {},
   "source": [
    "Histogram of Volume USDT"
   ]
  },
  {
   "cell_type": "code",
   "execution_count": null,
   "id": "3f1e8199",
   "metadata": {},
   "outputs": [],
   "source": [
    "#generate bins and count of each bin\n",
    "histogram_volumeUSDT1 = (\n",
    "    df_no_outlier\n",
    "    .select('Volume USDT')\n",
    "    .rdd\n",
    "    .flatMap(lambda record: record)\n",
    "    .histogram(20)\n",
    ")\n",
    "histogram_volumeUSDT1\n",
    "#display bin ranges\n",
    "for i in range(len(histogram_volumeUSDT1[0])-1):\n",
    "    print('[' + str(round(histogram_volumeUSDT1[0][i],2))\n",
    "        + ',' + str(round(histogram_volumeUSDT1[0][i+1],2))\n",
    "          + ')'\n",
    "         )"
   ]
  },
  {
   "cell_type": "code",
   "execution_count": null,
   "id": "2a9a8f03",
   "metadata": {},
   "outputs": [],
   "source": [
    "%%spark -o hist_volumeUSDT1\n",
    "hist_volumeUSDT1 =  spark.createDataFrame(\n",
    "    list(zip(*histogram_volumeUSDT1)), \n",
    "    ['Volume USDT', 'counts'])\n",
    "import matplotlib\n",
    "import matplotlib.pyplot as plt\n",
    "hist_volumeUSDT1.toPandas().set_index('Volume USDT'\n",
    "            ).plot(kind='bar')\n",
    "%matplot plt"
   ]
  }
 ],
 "metadata": {
  "kernelspec": {
   "display_name": "PySpark",
   "language": "",
   "name": "pysparkkernel"
  },
  "language_info": {
   "codemirror_mode": {
    "name": "python",
    "version": 3
   },
   "mimetype": "text/x-python",
   "name": "pyspark",
   "pygments_lexer": "python3"
  }
 },
 "nbformat": 4,
 "nbformat_minor": 5
}
