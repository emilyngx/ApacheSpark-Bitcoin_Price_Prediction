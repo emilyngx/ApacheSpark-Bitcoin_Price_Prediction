{
 "cells": [
  {
   "cell_type": "code",
   "execution_count": 16,
   "id": "36ce4007",
   "metadata": {},
   "outputs": [],
   "source": [
    "import pandas as pd\n",
    "import seaborn as sns"
   ]
  },
  {
   "cell_type": "code",
   "execution_count": 5,
   "id": "24a0896d",
   "metadata": {},
   "outputs": [
    {
     "data": {
      "image/png": "[encoded data removed]",
      "text/plain": [
       "<Figure size 432x288 with 1 Axes>"
      ]
     },
     "metadata": {
      "needs_background": "light"
     },
     "output_type": "display_data"
    }
   ],
   "source": [
    "%matplotlib inline\n",
    "import matplotlib.pyplot as plt\n",
    "import numpy as np\n",
    "t = np.arange(0.0, 2.0, 0.01)\n",
    "s = 1 + np.sin(2 * np.pi * t)\n",
    "fig, ax = plt.subplots()\n",
    "ax.plot(t, s)\n",
    "ax.set(xlabel='time (s)', ylabel='voltage (mV)',\n",
    "       title='Test successful')\n",
    "ax.grid()\n",
    "plt.show()"
   ]
  },
  {
   "cell_type": "code",
   "execution_count": 15,
   "id": "6d58b889",
   "metadata": {},
   "outputs": [
    {
     "data": {
      "text/html": [
       "<div>\n",
       "<style scoped>\n",
       "    .dataframe tbody tr th:only-of-type {\n",
       "        vertical-align: middle;\n",
       "    }\n",
       "\n",
       "    .dataframe tbody tr th {\n",
       "        vertical-align: top;\n",
       "    }\n",
       "\n",
       "    .dataframe thead th {\n",
       "        text-align: right;\n",
       "    }\n",
       "</style>\n",
       "<table border=\"1\" class=\"dataframe\">\n",
       "  <thead>\n",
       "    <tr style=\"text-align: right;\">\n",
       "      <th></th>\n",
       "      <th>unix</th>\n",
       "      <th>date</th>\n",
       "      <th>symbol</th>\n",
       "      <th>open</th>\n",
       "      <th>high</th>\n",
       "      <th>low</th>\n",
       "      <th>close</th>\n",
       "      <th>Volume BTC</th>\n",
       "      <th>Volume USDT</th>\n",
       "    </tr>\n",
       "  </thead>\n",
       "  <tbody>\n",
       "    <tr>\n",
       "      <th>0</th>\n",
       "      <td>1624492800000</td>\n",
       "      <td>2021-06-24 00:00:00</td>\n",
       "      <td>BTC/USDT</td>\n",
       "      <td>33675.07</td>\n",
       "      <td>33879.99</td>\n",
       "      <td>33590.75</td>\n",
       "      <td>33615.13</td>\n",
       "      <td>449.057483</td>\n",
       "      <td>1.514444e+07</td>\n",
       "    </tr>\n",
       "    <tr>\n",
       "      <th>1</th>\n",
       "      <td>1624489200000</td>\n",
       "      <td>2021-06-23 23:00:00</td>\n",
       "      <td>BTC/USDT</td>\n",
       "      <td>33469.76</td>\n",
       "      <td>33749.11</td>\n",
       "      <td>33251.00</td>\n",
       "      <td>33678.07</td>\n",
       "      <td>2214.913517</td>\n",
       "      <td>7.429962e+07</td>\n",
       "    </tr>\n",
       "    <tr>\n",
       "      <th>2</th>\n",
       "      <td>1624485600000</td>\n",
       "      <td>2021-06-23 22:00:00</td>\n",
       "      <td>BTC/USDT</td>\n",
       "      <td>33335.01</td>\n",
       "      <td>33587.00</td>\n",
       "      <td>33133.33</td>\n",
       "      <td>33469.85</td>\n",
       "      <td>2554.369099</td>\n",
       "      <td>8.533082e+07</td>\n",
       "    </tr>\n",
       "    <tr>\n",
       "      <th>3</th>\n",
       "      <td>1624482000000</td>\n",
       "      <td>2021-06-23 21:00:00</td>\n",
       "      <td>BTC/USDT</td>\n",
       "      <td>33045.77</td>\n",
       "      <td>33785.26</td>\n",
       "      <td>32985.50</td>\n",
       "      <td>33335.00</td>\n",
       "      <td>3332.771230</td>\n",
       "      <td>1.110042e+08</td>\n",
       "    </tr>\n",
       "    <tr>\n",
       "      <th>4</th>\n",
       "      <td>1624478400000</td>\n",
       "      <td>2021-06-23 20:00:00</td>\n",
       "      <td>BTC/USDT</td>\n",
       "      <td>32882.50</td>\n",
       "      <td>33295.79</td>\n",
       "      <td>32749.01</td>\n",
       "      <td>33045.78</td>\n",
       "      <td>4423.694685</td>\n",
       "      <td>1.462423e+08</td>\n",
       "    </tr>\n",
       "    <tr>\n",
       "      <th>...</th>\n",
       "      <td>...</td>\n",
       "      <td>...</td>\n",
       "      <td>...</td>\n",
       "      <td>...</td>\n",
       "      <td>...</td>\n",
       "      <td>...</td>\n",
       "      <td>...</td>\n",
       "      <td>...</td>\n",
       "      <td>...</td>\n",
       "    </tr>\n",
       "    <tr>\n",
       "      <th>36393</th>\n",
       "      <td>1502956800</td>\n",
       "      <td>2017-08-17 08-AM</td>\n",
       "      <td>BTC/USDT</td>\n",
       "      <td>4349.99</td>\n",
       "      <td>4377.85</td>\n",
       "      <td>4333.32</td>\n",
       "      <td>4360.69</td>\n",
       "      <td>0.949900</td>\n",
       "      <td>4.139700e+03</td>\n",
       "    </tr>\n",
       "    <tr>\n",
       "      <th>36394</th>\n",
       "      <td>1502953200</td>\n",
       "      <td>2017-08-17 07-AM</td>\n",
       "      <td>BTC/USDT</td>\n",
       "      <td>4324.35</td>\n",
       "      <td>4349.99</td>\n",
       "      <td>4287.41</td>\n",
       "      <td>4349.99</td>\n",
       "      <td>4.440000</td>\n",
       "      <td>1.924106e+04</td>\n",
       "    </tr>\n",
       "    <tr>\n",
       "      <th>36395</th>\n",
       "      <td>1502949600</td>\n",
       "      <td>2017-08-17 06-AM</td>\n",
       "      <td>BTC/USDT</td>\n",
       "      <td>4315.32</td>\n",
       "      <td>4345.45</td>\n",
       "      <td>4309.37</td>\n",
       "      <td>4324.35</td>\n",
       "      <td>7.230000</td>\n",
       "      <td>3.128231e+04</td>\n",
       "    </tr>\n",
       "    <tr>\n",
       "      <th>36396</th>\n",
       "      <td>1502946000</td>\n",
       "      <td>2017-08-17 05-AM</td>\n",
       "      <td>BTC/USDT</td>\n",
       "      <td>4308.83</td>\n",
       "      <td>4328.69</td>\n",
       "      <td>4291.37</td>\n",
       "      <td>4315.32</td>\n",
       "      <td>23.230000</td>\n",
       "      <td>1.003048e+05</td>\n",
       "    </tr>\n",
       "    <tr>\n",
       "      <th>36397</th>\n",
       "      <td>1502942400</td>\n",
       "      <td>2017-08-17 04-AM</td>\n",
       "      <td>BTC/USDT</td>\n",
       "      <td>16199.91</td>\n",
       "      <td>16199.91</td>\n",
       "      <td>4261.32</td>\n",
       "      <td>4308.83</td>\n",
       "      <td>44.510000</td>\n",
       "      <td>1.909529e+05</td>\n",
       "    </tr>\n",
       "  </tbody>\n",
       "</table>\n",
       "<p>36398 rows × 9 columns</p>\n",
       "</div>"
      ],
      "text/plain": [
       "                unix                 date    symbol      open      high  \\\n",
       "0      1624492800000  2021-06-24 00:00:00  BTC/USDT  33675.07  33879.99   \n",
       "1      1624489200000  2021-06-23 23:00:00  BTC/USDT  33469.76  33749.11   \n",
       "2      1624485600000  2021-06-23 22:00:00  BTC/USDT  33335.01  33587.00   \n",
       "3      1624482000000  2021-06-23 21:00:00  BTC/USDT  33045.77  33785.26   \n",
       "4      1624478400000  2021-06-23 20:00:00  BTC/USDT  32882.50  33295.79   \n",
       "...              ...                  ...       ...       ...       ...   \n",
       "36393     1502956800     2017-08-17 08-AM  BTC/USDT   4349.99   4377.85   \n",
       "36394     1502953200     2017-08-17 07-AM  BTC/USDT   4324.35   4349.99   \n",
       "36395     1502949600     2017-08-17 06-AM  BTC/USDT   4315.32   4345.45   \n",
       "36396     1502946000     2017-08-17 05-AM  BTC/USDT   4308.83   4328.69   \n",
       "36397     1502942400     2017-08-17 04-AM  BTC/USDT  16199.91  16199.91   \n",
       "\n",
       "            low     close   Volume BTC   Volume USDT  \n",
       "0      33590.75  33615.13   449.057483  1.514444e+07  \n",
       "1      33251.00  33678.07  2214.913517  7.429962e+07  \n",
       "2      33133.33  33469.85  2554.369099  8.533082e+07  \n",
       "3      32985.50  33335.00  3332.771230  1.110042e+08  \n",
       "4      32749.01  33045.78  4423.694685  1.462423e+08  \n",
       "...         ...       ...          ...           ...  \n",
       "36393   4333.32   4360.69     0.949900  4.139700e+03  \n",
       "36394   4287.41   4349.99     4.440000  1.924106e+04  \n",
       "36395   4309.37   4324.35     7.230000  3.128231e+04  \n",
       "36396   4291.37   4315.32    23.230000  1.003048e+05  \n",
       "36397   4261.32   4308.83    44.510000  1.909529e+05  \n",
       "\n",
       "[36398 rows x 9 columns]"
      ]
     },
     "execution_count": 15,
     "metadata": {},
     "output_type": "execute_result"
    }
   ],
   "source": [
    "df = pd.read_csv('df_clean.csv')\n",
    "df = df.iloc[:,1:]\n",
    "df"
   ]
  },
  {
   "cell_type": "code",
   "execution_count": 20,
   "id": "879921f2",
   "metadata": {},
   "outputs": [
    {
     "data": {
      "text/plain": [
       "<AxesSubplot:xlabel='unix', ylabel='Density'>"
      ]
     },
     "execution_count": 20,
     "metadata": {},
     "output_type": "execute_result"
    },
    {
     "data": {
      "image/png": "[encoded data removed]",
      "text/plain": [
       "<Figure size 432x288 with 1 Axes>"
      ]
     },
     "metadata": {},
     "output_type": "display_data"
    }
   ],
   "source": [
    "sns.set_style('darkgrid')\n",
    "sns.distplot(df['unix'])"
   ]
  },
  {
   "cell_type": "code",
   "execution_count": null,
   "id": "d89b0f84",
   "metadata": {},
   "outputs": [],
   "source": []
  }
 ],
 "metadata": {
  "kernelspec": {
   "display_name": "Python 3",
   "language": "python",
   "name": "python3"
  },
  "language_info": {
   "codemirror_mode": {
    "name": "ipython",
    "version": 3
   },
   "file_extension": ".py",
   "mimetype": "text/x-python",
   "name": "python",
   "nbconvert_exporter": "python",
   "pygments_lexer": "ipython3",
   "version": "3.8.8"
  }
 },
 "nbformat": 4,
 "nbformat_minor": 5
}
