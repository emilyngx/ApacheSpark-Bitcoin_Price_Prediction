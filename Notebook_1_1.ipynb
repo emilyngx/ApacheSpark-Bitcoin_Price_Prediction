{
 "cells": [
  {
   "cell_type": "markdown",
   "id": "e589a301",
   "metadata": {},
   "source": [
    "GROUP 6\\\n",
    "1.\\\n",
    "a. Objective of project: Predict BTC/USDT price trend in the next 1 hour\\\n",
    "b. Method of analysis: LSTMs, regression\\\n",
    "c. Dataset:\\\n",
    "-Independent variables: Open, Close, High, Low, Volume BTC, Volume USDT\\\n",
    "-Dependent variable: Close (price)\\\n",
    "-Column descriptions:\\\n",
    "● Unix: Unix timestamp is a digital standard for denoting an exact, universal time\\\n",
    "● Date and Time: Date and time of price with time interval of 1 hour\\\n",
    "● Open: BTC/USDT price first trade upon the start of the time period\\\n",
    "● Close: BTC/USDT price at the end of the time period\\\n",
    "● High: Highest BTC/USDT price during the 1 hour time period\\\n",
    "● Low: Lowest BTC/USDT price during the 1 hour time period\\\n",
    "● Volume BTC: Measure of how much of a given BTC has been traded in the time\n",
    "period\\\n",
    "● Volume USDT: Measure of how much of a given USDT has been traded in\n",
    "the time period\\\n",
    "● Tradecount: Number of trades"
   ]
  },
  {
   "cell_type": "code",
   "execution_count": 1,
   "id": "936b8fb7",
   "metadata": {},
   "outputs": [
    {
     "data": {
      "application/vnd.jupyter.widget-view+json": {
       "model_id": "f978c3a9fb1c49128b68c1461716630e",
       "version_major": 2,
       "version_minor": 0
      },
      "text/plain": [
       "VBox()"
      ]
     },
     "metadata": {},
     "output_type": "display_data"
    },
    {
     "name": "stdout",
     "output_type": "stream",
     "text": [
      "Starting Spark application\n"
     ]
    },
    {
     "data": {
      "text/html": [
       "<table>\n",
       "<tr><th>ID</th><th>YARN Application ID</th><th>Kind</th><th>State</th><th>Spark UI</th><th>Driver log</th><th>Current session?</th></tr><tr><td>1</td><td>application_1626333902105_0002</td><td>pyspark</td><td>idle</td><td><a target=\"_blank\" href=\"http://ip-172-31-54-6.ec2.internal:20888/proxy/application_1626333902105_0002/\">Link</a></td><td><a target=\"_blank\" href=\"http://ip-172-31-55-161.ec2.internal:8042/node/containerlogs/container_1626333902105_0002_01_000001/livy\">Link</a></td><td>✔</td></tr></table>"
      ],
      "text/plain": [
       "<IPython.core.display.HTML object>"
      ]
     },
     "metadata": {},
     "output_type": "display_data"
    },
    {
     "data": {
      "application/vnd.jupyter.widget-view+json": {
       "model_id": "",
       "version_major": 2,
       "version_minor": 0
      },
      "text/plain": [
       "FloatProgress(value=0.0, bar_style='info', description='Progress:', layout=Layout(height='25px', width='50%'),…"
      ]
     },
     "metadata": {},
     "output_type": "display_data"
    },
    {
     "name": "stdout",
     "output_type": "stream",
     "text": [
      "SparkSession available as 'spark'.\n"
     ]
    },
    {
     "data": {
      "application/vnd.jupyter.widget-view+json": {
       "model_id": "",
       "version_major": 2,
       "version_minor": 0
      },
      "text/plain": [
       "FloatProgress(value=0.0, bar_style='info', description='Progress:', layout=Layout(height='25px', width='50%'),…"
      ]
     },
     "metadata": {},
     "output_type": "display_data"
    }
   ],
   "source": [
    "import pyspark.sql.functions as fn"
   ]
  },
  {
   "cell_type": "markdown",
   "id": "691043ce",
   "metadata": {},
   "source": [
    "2. Data Cleaning"
   ]
  },
  {
   "cell_type": "markdown",
   "id": "43ada7ef",
   "metadata": {},
   "source": [
    "2a. Reading from CSV"
   ]
  },
  {
   "cell_type": "code",
   "execution_count": 2,
   "id": "1ba5fd7c",
   "metadata": {},
   "outputs": [
    {
     "data": {
      "application/vnd.jupyter.widget-view+json": {
       "model_id": "3affc2ef571c4b06986973ad2e0e7e55",
       "version_major": 2,
       "version_minor": 0
      },
      "text/plain": [
       "VBox()"
      ]
     },
     "metadata": {},
     "output_type": "display_data"
    },
    {
     "data": {
      "application/vnd.jupyter.widget-view+json": {
       "model_id": "",
       "version_major": 2,
       "version_minor": 0
      },
      "text/plain": [
       "FloatProgress(value=0.0, bar_style='info', description='Progress:', layout=Layout(height='25px', width='50%'),…"
      ]
     },
     "metadata": {},
     "output_type": "display_data"
    },
    {
     "name": "stderr",
     "output_type": "stream",
     "text": [
      "An error was encountered:\n",
      "An error occurred while calling o86.csv.\n",
      ": java.io.IOException: com.amazon.ws.emr.hadoop.fs.shaded.com.amazonaws.services.s3.model.AmazonS3Exception: Access Denied (Service: Amazon S3; Status Code: 403; Error Code: AccessDenied; Request ID: 7MNH46ZXYSG5NSDT; S3 Extended Request ID: qjEaH5ClDGbGVsuZJblJ/qr0u2oIRvtCYl2XK0xZU8R4TlUakv++gVSUtbs56h5OoTrgGwVQExg=), S3 Extended Request ID: qjEaH5ClDGbGVsuZJblJ/qr0u2oIRvtCYl2XK0xZU8R4TlUakv++gVSUtbs56h5OoTrgGwVQExg=\n",
      "\tat com.amazon.ws.emr.hadoop.fs.s3n.Jets3tNativeFileSystemStore.list(Jets3tNativeFileSystemStore.java:329)\n",
      "\tat com.amazon.ws.emr.hadoop.fs.s3n.S3NativeFileSystem.getFileStatus(S3NativeFileSystem.java:613)\n",
      "\tat org.apache.hadoop.fs.FileSystem.exists(FileSystem.java:1440)\n",
      "\tat com.amazon.ws.emr.hadoop.fs.EmrFileSystem.exists(EmrFileSystem.java:357)\n",
      "\tat org.apache.spark.sql.execution.datasources.DataSource$$anonfun$org$apache$spark$sql$execution$datasources$DataSource$$checkAndGlobPathIfNecessary$1.apply(DataSource.scala:557)\n",
      "\tat org.apache.spark.sql.execution.datasources.DataSource$$anonfun$org$apache$spark$sql$execution$datasources$DataSource$$checkAndGlobPathIfNecessary$1.apply(DataSource.scala:545)\n",
      "\tat scala.collection.TraversableLike$$anonfun$flatMap$1.apply(TraversableLike.scala:241)\n",
      "\tat scala.collection.TraversableLike$$anonfun$flatMap$1.apply(TraversableLike.scala:241)\n",
      "\tat scala.collection.immutable.List.foreach(List.scala:392)\n",
      "\tat scala.collection.TraversableLike$class.flatMap(TraversableLike.scala:241)\n",
      "\tat scala.collection.immutable.List.flatMap(List.scala:355)\n",
      "\tat org.apache.spark.sql.execution.datasources.DataSource.org$apache$spark$sql$execution$datasources$DataSource$$checkAndGlobPathIfNecessary(DataSource.scala:545)\n",
      "\tat org.apache.spark.sql.execution.datasources.DataSource.resolveRelation(DataSource.scala:359)\n",
      "\tat org.apache.spark.sql.DataFrameReader.loadV1Source(DataFrameReader.scala:223)\n",
      "\tat org.apache.spark.sql.DataFrameReader.load(DataFrameReader.scala:211)\n",
      "\tat org.apache.spark.sql.DataFrameReader.csv(DataFrameReader.scala:619)\n",
      "\tat sun.reflect.NativeMethodAccessorImpl.invoke0(Native Method)\n",
      "\tat sun.reflect.NativeMethodAccessorImpl.invoke(NativeMethodAccessorImpl.java:62)\n",
      "\tat sun.reflect.DelegatingMethodAccessorImpl.invoke(DelegatingMethodAccessorImpl.java:43)\n",
      "\tat java.lang.reflect.Method.invoke(Method.java:498)\n",
      "\tat py4j.reflection.MethodInvoker.invoke(MethodInvoker.java:244)\n",
      "\tat py4j.reflection.ReflectionEngine.invoke(ReflectionEngine.java:357)\n",
      "\tat py4j.Gateway.invoke(Gateway.java:282)\n",
      "\tat py4j.commands.AbstractCommand.invokeMethod(AbstractCommand.java:132)\n",
      "\tat py4j.commands.CallCommand.execute(CallCommand.java:79)\n",
      "\tat py4j.GatewayConnection.run(GatewayConnection.java:238)\n",
      "\tat java.lang.Thread.run(Thread.java:748)\n",
      "Caused by: com.amazon.ws.emr.hadoop.fs.shaded.com.amazonaws.services.s3.model.AmazonS3Exception: Access Denied (Service: Amazon S3; Status Code: 403; Error Code: AccessDenied; Request ID: 7MNH46ZXYSG5NSDT; S3 Extended Request ID: qjEaH5ClDGbGVsuZJblJ/qr0u2oIRvtCYl2XK0xZU8R4TlUakv++gVSUtbs56h5OoTrgGwVQExg=), S3 Extended Request ID: qjEaH5ClDGbGVsuZJblJ/qr0u2oIRvtCYl2XK0xZU8R4TlUakv++gVSUtbs56h5OoTrgGwVQExg=\n",
      "\tat com.amazon.ws.emr.hadoop.fs.shaded.com.amazonaws.http.AmazonHttpClient$RequestExecutor.handleErrorResponse(AmazonHttpClient.java:1742)\n",
      "\tat com.amazon.ws.emr.hadoop.fs.shaded.com.amazonaws.http.AmazonHttpClient$RequestExecutor.handleServiceErrorResponse(AmazonHttpClient.java:1371)\n",
      "\tat com.amazon.ws.emr.hadoop.fs.shaded.com.amazonaws.http.AmazonHttpClient$RequestExecutor.executeOneRequest(AmazonHttpClient.java:1347)\n",
      "\tat com.amazon.ws.emr.hadoop.fs.shaded.com.amazonaws.http.AmazonHttpClient$RequestExecutor.executeHelper(AmazonHttpClient.java:1127)\n",
      "\tat com.amazon.ws.emr.hadoop.fs.shaded.com.amazonaws.http.AmazonHttpClient$RequestExecutor.doExecute(AmazonHttpClient.java:784)\n",
      "\tat com.amazon.ws.emr.hadoop.fs.shaded.com.amazonaws.http.AmazonHttpClient$RequestExecutor.executeWithTimer(AmazonHttpClient.java:752)\n",
      "\tat com.amazon.ws.emr.hadoop.fs.shaded.com.amazonaws.http.AmazonHttpClient$RequestExecutor.execute(AmazonHttpClient.java:726)\n",
      "\tat com.amazon.ws.emr.hadoop.fs.shaded.com.amazonaws.http.AmazonHttpClient$RequestExecutor.access$500(AmazonHttpClient.java:686)\n",
      "\tat com.amazon.ws.emr.hadoop.fs.shaded.com.amazonaws.http.AmazonHttpClient$RequestExecutionBuilderImpl.execute(AmazonHttpClient.java:668)\n",
      "\tat com.amazon.ws.emr.hadoop.fs.shaded.com.amazonaws.http.AmazonHttpClient.execute(AmazonHttpClient.java:532)\n",
      "\tat com.amazon.ws.emr.hadoop.fs.shaded.com.amazonaws.http.AmazonHttpClient.execute(AmazonHttpClient.java:512)\n",
      "\tat com.amazon.ws.emr.hadoop.fs.shaded.com.amazonaws.services.s3.AmazonS3Client.invoke(AmazonS3Client.java:5052)\n",
      "\tat com.amazon.ws.emr.hadoop.fs.shaded.com.amazonaws.services.s3.AmazonS3Client.invoke(AmazonS3Client.java:4998)\n",
      "\tat com.amazon.ws.emr.hadoop.fs.shaded.com.amazonaws.services.s3.AmazonS3Client.invoke(AmazonS3Client.java:4992)\n",
      "\tat com.amazon.ws.emr.hadoop.fs.shaded.com.amazonaws.services.s3.AmazonS3Client.listObjectsV2(AmazonS3Client.java:938)\n",
      "\tat com.amazon.ws.emr.hadoop.fs.s3.lite.call.ListObjectsV2Call.perform(ListObjectsV2Call.java:22)\n",
      "\tat com.amazon.ws.emr.hadoop.fs.s3.lite.call.ListObjectsV2Call.perform(ListObjectsV2Call.java:8)\n",
      "\tat com.amazon.ws.emr.hadoop.fs.s3.lite.executor.GlobalS3Executor.execute(GlobalS3Executor.java:114)\n",
      "\tat com.amazon.ws.emr.hadoop.fs.s3.lite.AmazonS3LiteClient.invoke(AmazonS3LiteClient.java:189)\n",
      "\tat com.amazon.ws.emr.hadoop.fs.s3.lite.AmazonS3LiteClient.invoke(AmazonS3LiteClient.java:184)\n",
      "\tat com.amazon.ws.emr.hadoop.fs.s3.lite.AmazonS3LiteClient.listObjectsV2(AmazonS3LiteClient.java:75)\n",
      "\tat com.amazon.ws.emr.hadoop.fs.s3n.Jets3tNativeFileSystemStore.list(Jets3tNativeFileSystemStore.java:320)\n",
      "\t... 26 more\n",
      "\n",
      "Traceback (most recent call last):\n",
      "  File \"/usr/lib/spark/python/lib/pyspark.zip/pyspark/sql/readwriter.py\", line 476, in csv\n",
      "    return self._df(self._jreader.csv(self._spark._sc._jvm.PythonUtils.toSeq(path)))\n",
      "  File \"/usr/lib/spark/python/lib/py4j-0.10.7-src.zip/py4j/java_gateway.py\", line 1257, in __call__\n",
      "    answer, self.gateway_client, self.target_id, self.name)\n",
      "  File \"/usr/lib/spark/python/lib/pyspark.zip/pyspark/sql/utils.py\", line 63, in deco\n",
      "    return f(*a, **kw)\n",
      "  File \"/usr/lib/spark/python/lib/py4j-0.10.7-src.zip/py4j/protocol.py\", line 328, in get_return_value\n",
      "    format(target_id, \".\", name), value)\n",
      "py4j.protocol.Py4JJavaError: An error occurred while calling o86.csv.\n",
      ": java.io.IOException: com.amazon.ws.emr.hadoop.fs.shaded.com.amazonaws.services.s3.model.AmazonS3Exception: Access Denied (Service: Amazon S3; Status Code: 403; Error Code: AccessDenied; Request ID: 7MNH46ZXYSG5NSDT; S3 Extended Request ID: qjEaH5ClDGbGVsuZJblJ/qr0u2oIRvtCYl2XK0xZU8R4TlUakv++gVSUtbs56h5OoTrgGwVQExg=), S3 Extended Request ID: qjEaH5ClDGbGVsuZJblJ/qr0u2oIRvtCYl2XK0xZU8R4TlUakv++gVSUtbs56h5OoTrgGwVQExg=\n",
      "\tat com.amazon.ws.emr.hadoop.fs.s3n.Jets3tNativeFileSystemStore.list(Jets3tNativeFileSystemStore.java:329)\n",
      "\tat com.amazon.ws.emr.hadoop.fs.s3n.S3NativeFileSystem.getFileStatus(S3NativeFileSystem.java:613)\n",
      "\tat org.apache.hadoop.fs.FileSystem.exists(FileSystem.java:1440)\n",
      "\tat com.amazon.ws.emr.hadoop.fs.EmrFileSystem.exists(EmrFileSystem.java:357)\n",
      "\tat org.apache.spark.sql.execution.datasources.DataSource$$anonfun$org$apache$spark$sql$execution$datasources$DataSource$$checkAndGlobPathIfNecessary$1.apply(DataSource.scala:557)\n",
      "\tat org.apache.spark.sql.execution.datasources.DataSource$$anonfun$org$apache$spark$sql$execution$datasources$DataSource$$checkAndGlobPathIfNecessary$1.apply(DataSource.scala:545)\n",
      "\tat scala.collection.TraversableLike$$anonfun$flatMap$1.apply(TraversableLike.scala:241)\n",
      "\tat scala.collection.TraversableLike$$anonfun$flatMap$1.apply(TraversableLike.scala:241)\n",
      "\tat scala.collection.immutable.List.foreach(List.scala:392)\n",
      "\tat scala.collection.TraversableLike$class.flatMap(TraversableLike.scala:241)\n",
      "\tat scala.collection.immutable.List.flatMap(List.scala:355)\n",
      "\tat org.apache.spark.sql.execution.datasources.DataSource.org$apache$spark$sql$execution$datasources$DataSource$$checkAndGlobPathIfNecessary(DataSource.scala:545)\n",
      "\tat org.apache.spark.sql.execution.datasources.DataSource.resolveRelation(DataSource.scala:359)\n",
      "\tat org.apache.spark.sql.DataFrameReader.loadV1Source(DataFrameReader.scala:223)\n",
      "\tat org.apache.spark.sql.DataFrameReader.load(DataFrameReader.scala:211)\n",
      "\tat org.apache.spark.sql.DataFrameReader.csv(DataFrameReader.scala:619)\n",
      "\tat sun.reflect.NativeMethodAccessorImpl.invoke0(Native Method)\n",
      "\tat sun.reflect.NativeMethodAccessorImpl.invoke(NativeMethodAccessorImpl.java:62)\n",
      "\tat sun.reflect.DelegatingMethodAccessorImpl.invoke(DelegatingMethodAccessorImpl.java:43)\n",
      "\tat java.lang.reflect.Method.invoke(Method.java:498)\n",
      "\tat py4j.reflection.MethodInvoker.invoke(MethodInvoker.java:244)\n",
      "\tat py4j.reflection.ReflectionEngine.invoke(ReflectionEngine.java:357)\n",
      "\tat py4j.Gateway.invoke(Gateway.java:282)\n",
      "\tat py4j.commands.AbstractCommand.invokeMethod(AbstractCommand.java:132)\n",
      "\tat py4j.commands.CallCommand.execute(CallCommand.java:79)\n",
      "\tat py4j.GatewayConnection.run(GatewayConnection.java:238)\n",
      "\tat java.lang.Thread.run(Thread.java:748)\n",
      "Caused by: com.amazon.ws.emr.hadoop.fs.shaded.com.amazonaws.services.s3.model.AmazonS3Exception: Access Denied (Service: Amazon S3; Status Code: 403; Error Code: AccessDenied; Request ID: 7MNH46ZXYSG5NSDT; S3 Extended Request ID: qjEaH5ClDGbGVsuZJblJ/qr0u2oIRvtCYl2XK0xZU8R4TlUakv++gVSUtbs56h5OoTrgGwVQExg=), S3 Extended Request ID: qjEaH5ClDGbGVsuZJblJ/qr0u2oIRvtCYl2XK0xZU8R4TlUakv++gVSUtbs56h5OoTrgGwVQExg=\n",
      "\tat com.amazon.ws.emr.hadoop.fs.shaded.com.amazonaws.http.AmazonHttpClient$RequestExecutor.handleErrorResponse(AmazonHttpClient.java:1742)\n",
      "\tat com.amazon.ws.emr.hadoop.fs.shaded.com.amazonaws.http.AmazonHttpClient$RequestExecutor.handleServiceErrorResponse(AmazonHttpClient.java:1371)\n",
      "\tat com.amazon.ws.emr.hadoop.fs.shaded.com.amazonaws.http.AmazonHttpClient$RequestExecutor.executeOneRequest(AmazonHttpClient.java:1347)\n",
      "\tat com.amazon.ws.emr.hadoop.fs.shaded.com.amazonaws.http.AmazonHttpClient$RequestExecutor.executeHelper(AmazonHttpClient.java:1127)\n",
      "\tat com.amazon.ws.emr.hadoop.fs.shaded.com.amazonaws.http.AmazonHttpClient$RequestExecutor.doExecute(AmazonHttpClient.java:784)\n",
      "\tat com.amazon.ws.emr.hadoop.fs.shaded.com.amazonaws.http.AmazonHttpClient$RequestExecutor.executeWithTimer(AmazonHttpClient.java:752)\n",
      "\tat com.amazon.ws.emr.hadoop.fs.shaded.com.amazonaws.http.AmazonHttpClient$RequestExecutor.execute(AmazonHttpClient.java:726)\n",
      "\tat com.amazon.ws.emr.hadoop.fs.shaded.com.amazonaws.http.AmazonHttpClient$RequestExecutor.access$500(AmazonHttpClient.java:686)\n",
      "\tat com.amazon.ws.emr.hadoop.fs.shaded.com.amazonaws.http.AmazonHttpClient$RequestExecutionBuilderImpl.execute(AmazonHttpClient.java:668)\n",
      "\tat com.amazon.ws.emr.hadoop.fs.shaded.com.amazonaws.http.AmazonHttpClient.execute(AmazonHttpClient.java:532)\n",
      "\tat com.amazon.ws.emr.hadoop.fs.shaded.com.amazonaws.http.AmazonHttpClient.execute(AmazonHttpClient.java:512)\n",
      "\tat com.amazon.ws.emr.hadoop.fs.shaded.com.amazonaws.services.s3.AmazonS3Client.invoke(AmazonS3Client.java:5052)\n",
      "\tat com.amazon.ws.emr.hadoop.fs.shaded.com.amazonaws.services.s3.AmazonS3Client.invoke(AmazonS3Client.java:4998)\n",
      "\tat com.amazon.ws.emr.hadoop.fs.shaded.com.amazonaws.services.s3.AmazonS3Client.invoke(AmazonS3Client.java:4992)\n",
      "\tat com.amazon.ws.emr.hadoop.fs.shaded.com.amazonaws.services.s3.AmazonS3Client.listObjectsV2(AmazonS3Client.java:938)\n",
      "\tat com.amazon.ws.emr.hadoop.fs.s3.lite.call.ListObjectsV2Call.perform(ListObjectsV2Call.java:22)\n",
      "\tat com.amazon.ws.emr.hadoop.fs.s3.lite.call.ListObjectsV2Call.perform(ListObjectsV2Call.java:8)\n",
      "\tat com.amazon.ws.emr.hadoop.fs.s3.lite.executor.GlobalS3Executor.execute(GlobalS3Executor.java:114)\n",
      "\tat com.amazon.ws.emr.hadoop.fs.s3.lite.AmazonS3LiteClient.invoke(AmazonS3LiteClient.java:189)\n",
      "\tat com.amazon.ws.emr.hadoop.fs.s3.lite.AmazonS3LiteClient.invoke(AmazonS3LiteClient.java:184)\n",
      "\tat com.amazon.ws.emr.hadoop.fs.s3.lite.AmazonS3LiteClient.listObjectsV2(AmazonS3LiteClient.java:75)\n",
      "\tat com.amazon.ws.emr.hadoop.fs.s3n.Jets3tNativeFileSystemStore.list(Jets3tNativeFileSystemStore.java:320)\n",
      "\t... 26 more\n",
      "\n",
      "\n"
     ]
    }
   ],
   "source": [
    "df = (\n",
    "spark\n",
    ".read\n",
    ".csv(\n",
    "'s3://group6project1/BTCUSDT Binance.csv'\n",
    ", header=True\n",
    ", inferSchema=True)\n",
    ")"
   ]
  },
  {
   "cell_type": "code",
   "execution_count": 3,
   "id": "86852a6b",
   "metadata": {},
   "outputs": [
    {
     "data": {
      "application/vnd.jupyter.widget-view+json": {
       "model_id": "23e265d2c6754fbc846dbefbec329a09",
       "version_major": 2,
       "version_minor": 0
      },
      "text/plain": [
       "VBox()"
      ]
     },
     "metadata": {},
     "output_type": "display_data"
    },
    {
     "data": {
      "application/vnd.jupyter.widget-view+json": {
       "model_id": "",
       "version_major": 2,
       "version_minor": 0
      },
      "text/plain": [
       "FloatProgress(value=0.0, bar_style='info', description='Progress:', layout=Layout(height='25px', width='50%'),…"
      ]
     },
     "metadata": {},
     "output_type": "display_data"
    },
    {
     "name": "stderr",
     "output_type": "stream",
     "text": [
      "An error was encountered:\n",
      "name 'df' is not defined\n",
      "Traceback (most recent call last):\n",
      "NameError: name 'df' is not defined\n",
      "\n"
     ]
    }
   ],
   "source": [
    "#Drop symbol column because all data is about BTC/USDT prices:\n",
    "df = df.drop('symbol')\n",
    "df.show(10)"
   ]
  },
  {
   "cell_type": "code",
   "execution_count": 4,
   "id": "024cd3b2",
   "metadata": {},
   "outputs": [
    {
     "data": {
      "application/vnd.jupyter.widget-view+json": {
       "model_id": "a0af11515db5447aa3caefa0224af3fe",
       "version_major": 2,
       "version_minor": 0
      },
      "text/plain": [
       "VBox()"
      ]
     },
     "metadata": {},
     "output_type": "display_data"
    },
    {
     "data": {
      "application/vnd.jupyter.widget-view+json": {
       "model_id": "",
       "version_major": 2,
       "version_minor": 0
      },
      "text/plain": [
       "FloatProgress(value=0.0, bar_style='info', description='Progress:', layout=Layout(height='25px', width='50%'),…"
      ]
     },
     "metadata": {},
     "output_type": "display_data"
    },
    {
     "name": "stderr",
     "output_type": "stream",
     "text": [
      "An error was encountered:\n",
      "name 'df' is not defined\n",
      "Traceback (most recent call last):\n",
      "NameError: name 'df' is not defined\n",
      "\n"
     ]
    }
   ],
   "source": [
    "df.printSchema()"
   ]
  },
  {
   "cell_type": "markdown",
   "id": "d2a20bec",
   "metadata": {},
   "source": [
    "2b. Duplicated rows?"
   ]
  },
  {
   "cell_type": "code",
   "execution_count": 5,
   "id": "f456cf61",
   "metadata": {},
   "outputs": [
    {
     "data": {
      "application/vnd.jupyter.widget-view+json": {
       "model_id": "d454e0cc8af64dc2a79504946ba1ec2f",
       "version_major": 2,
       "version_minor": 0
      },
      "text/plain": [
       "VBox()"
      ]
     },
     "metadata": {},
     "output_type": "display_data"
    },
    {
     "data": {
      "application/vnd.jupyter.widget-view+json": {
       "model_id": "",
       "version_major": 2,
       "version_minor": 0
      },
      "text/plain": [
       "FloatProgress(value=0.0, bar_style='info', description='Progress:', layout=Layout(height='25px', width='50%'),…"
      ]
     },
     "metadata": {},
     "output_type": "display_data"
    },
    {
     "name": "stderr",
     "output_type": "stream",
     "text": [
      "An error was encountered:\n",
      "name 'df' is not defined\n",
      "Traceback (most recent call last):\n",
      "NameError: name 'df' is not defined\n",
      "\n"
     ]
    }
   ],
   "source": [
    "#Count total number of rows and total number of unique rows to check for duplicates / exact duplicates:\n",
    "df.count(), df.distinct().count()"
   ]
  },
  {
   "cell_type": "markdown",
   "id": "25fbd399",
   "metadata": {},
   "source": [
    "This indicates that all rows are distinct."
   ]
  },
  {
   "cell_type": "code",
   "execution_count": 6,
   "id": "0c5e1a30",
   "metadata": {},
   "outputs": [
    {
     "data": {
      "application/vnd.jupyter.widget-view+json": {
       "model_id": "62ea068c0a004811b6a5955cf6d3122b",
       "version_major": 2,
       "version_minor": 0
      },
      "text/plain": [
       "VBox()"
      ]
     },
     "metadata": {},
     "output_type": "display_data"
    },
    {
     "data": {
      "application/vnd.jupyter.widget-view+json": {
       "model_id": "",
       "version_major": 2,
       "version_minor": 0
      },
      "text/plain": [
       "FloatProgress(value=0.0, bar_style='info', description='Progress:', layout=Layout(height='25px', width='50%'),…"
      ]
     },
     "metadata": {},
     "output_type": "display_data"
    },
    {
     "name": "stderr",
     "output_type": "stream",
     "text": [
      "An error was encountered:\n",
      "name 'df' is not defined\n",
      "Traceback (most recent call last):\n",
      "NameError: name 'df' is not defined\n",
      "\n"
     ]
    }
   ],
   "source": [
    "#Count total number of unix and total number of unique unix to check for duplicates:\n",
    "df.agg(\n",
    "      fn.count('unix').alias('CountOfUnix')\n",
    "    , fn.countDistinct('unix').alias('CountOfDistinctUnix')\n",
    ").show()"
   ]
  },
  {
   "cell_type": "markdown",
   "id": "0df165dc",
   "metadata": {},
   "source": [
    "This indicates that all unix are distinct."
   ]
  },
  {
   "cell_type": "markdown",
   "id": "7cc3e3db",
   "metadata": {},
   "source": [
    "2c. Missing observations?"
   ]
  },
  {
   "cell_type": "code",
   "execution_count": 7,
   "id": "2fed3c25",
   "metadata": {},
   "outputs": [
    {
     "data": {
      "application/vnd.jupyter.widget-view+json": {
       "model_id": "a175a79052754e58839c7be81e2161d7",
       "version_major": 2,
       "version_minor": 0
      },
      "text/plain": [
       "VBox()"
      ]
     },
     "metadata": {},
     "output_type": "display_data"
    },
    {
     "data": {
      "application/vnd.jupyter.widget-view+json": {
       "model_id": "",
       "version_major": 2,
       "version_minor": 0
      },
      "text/plain": [
       "FloatProgress(value=0.0, bar_style='info', description='Progress:', layout=Layout(height='25px', width='50%'),…"
      ]
     },
     "metadata": {},
     "output_type": "display_data"
    },
    {
     "name": "stderr",
     "output_type": "stream",
     "text": [
      "An error was encountered:\n",
      "name 'df' is not defined\n",
      "Traceback (most recent call last):\n",
      "NameError: name 'df' is not defined\n",
      "\n"
     ]
    }
   ],
   "source": [
    "#Count percentage of missing values in each column:\n",
    "for k, v in sorted(\n",
    "    df.agg(*[\n",
    "               (1 - (fn.count(c) / fn.count('*')))\n",
    "                    .alias(c + '_miss')\n",
    "               for c in df.columns\n",
    "           ])\n",
    "        .collect()[0]\n",
    "        .asDict()\n",
    "        .items()\n",
    "    , key=lambda el: el[1]\n",
    "    , reverse=True\n",
    "):\n",
    "    print(k, v)"
   ]
  },
  {
   "cell_type": "markdown",
   "id": "b35d4bac",
   "metadata": {},
   "source": [
    "Because tradecount column has 78.53% of missing values, it will be dropped. "
   ]
  },
  {
   "cell_type": "code",
   "execution_count": 8,
   "id": "d0268c4a",
   "metadata": {},
   "outputs": [
    {
     "data": {
      "application/vnd.jupyter.widget-view+json": {
       "model_id": "a4804ec9d2b347f6a243e1da31ee68c6",
       "version_major": 2,
       "version_minor": 0
      },
      "text/plain": [
       "VBox()"
      ]
     },
     "metadata": {},
     "output_type": "display_data"
    },
    {
     "data": {
      "application/vnd.jupyter.widget-view+json": {
       "model_id": "",
       "version_major": 2,
       "version_minor": 0
      },
      "text/plain": [
       "FloatProgress(value=0.0, bar_style='info', description='Progress:', layout=Layout(height='25px', width='50%'),…"
      ]
     },
     "metadata": {},
     "output_type": "display_data"
    },
    {
     "name": "stderr",
     "output_type": "stream",
     "text": [
      "An error was encountered:\n",
      "name 'df' is not defined\n",
      "Traceback (most recent call last):\n",
      "NameError: name 'df' is not defined\n",
      "\n"
     ]
    }
   ],
   "source": [
    "#Drop tradecount column:\n",
    "no_tradecount = df.select([col for col in df.columns if col != 'tradecount'])\n",
    "no_tradecount.show()"
   ]
  },
  {
   "cell_type": "code",
   "execution_count": 9,
   "id": "f7390968",
   "metadata": {},
   "outputs": [
    {
     "data": {
      "application/vnd.jupyter.widget-view+json": {
       "model_id": "37762517c67a40b9a04a554facad79aa",
       "version_major": 2,
       "version_minor": 0
      },
      "text/plain": [
       "VBox()"
      ]
     },
     "metadata": {},
     "output_type": "display_data"
    },
    {
     "data": {
      "application/vnd.jupyter.widget-view+json": {
       "model_id": "",
       "version_major": 2,
       "version_minor": 0
      },
      "text/plain": [
       "FloatProgress(value=0.0, bar_style='info', description='Progress:', layout=Layout(height='25px', width='50%'),…"
      ]
     },
     "metadata": {},
     "output_type": "display_data"
    },
    {
     "name": "stderr",
     "output_type": "stream",
     "text": [
      "An error was encountered:\n",
      "name 'no_tradecount' is not defined\n",
      "Traceback (most recent call last):\n",
      "NameError: name 'no_tradecount' is not defined\n",
      "\n"
     ]
    }
   ],
   "source": [
    "#Count the number of rows with missing values\n",
    "no_tradecount.rdd.map(\n",
    "           lambda row: (\n",
    "                 row['unix']\n",
    "               , sum([c == None for c in row])\n",
    "           )\n",
    "        )\\\n",
    "        .filter(lambda el: el[1] >= 1)\\\n",
    "        .count()"
   ]
  },
  {
   "cell_type": "markdown",
   "id": "64710c51",
   "metadata": {},
   "source": [
    "There is 1 row with missing values."
   ]
  },
  {
   "cell_type": "code",
   "execution_count": 10,
   "id": "a7377dd1",
   "metadata": {},
   "outputs": [
    {
     "data": {
      "application/vnd.jupyter.widget-view+json": {
       "model_id": "491acfdccf3947f897a7dcd501a968e1",
       "version_major": 2,
       "version_minor": 0
      },
      "text/plain": [
       "VBox()"
      ]
     },
     "metadata": {},
     "output_type": "display_data"
    },
    {
     "data": {
      "application/vnd.jupyter.widget-view+json": {
       "model_id": "",
       "version_major": 2,
       "version_minor": 0
      },
      "text/plain": [
       "FloatProgress(value=0.0, bar_style='info', description='Progress:', layout=Layout(height='25px', width='50%'),…"
      ]
     },
     "metadata": {},
     "output_type": "display_data"
    },
    {
     "name": "stderr",
     "output_type": "stream",
     "text": [
      "An error was encountered:\n",
      "name 'no_tradecount' is not defined\n",
      "Traceback (most recent call last):\n",
      "NameError: name 'no_tradecount' is not defined\n",
      "\n"
     ]
    }
   ],
   "source": [
    "#Count the number of missing values in that row:\n",
    "(\n",
    "    spark.createDataFrame(\n",
    "        no_tradecount.rdd.map(\n",
    "           lambda row: (\n",
    "                 row['unix']\n",
    "               , sum([c == None for c in row])\n",
    "           )\n",
    "        )\n",
    "        .filter(lambda el: el[1] >= 1)\n",
    "        .collect()\n",
    "        ,['unix', 'CountMissing']\n",
    "    )\n",
    "    .orderBy('CountMissing', ascending=False)\n",
    "    .show()\n",
    ")"
   ]
  },
  {
   "cell_type": "markdown",
   "id": "c9eba535",
   "metadata": {},
   "source": [
    "There is 1 missing value in that row."
   ]
  },
  {
   "cell_type": "code",
   "execution_count": 11,
   "id": "b1d62db6",
   "metadata": {},
   "outputs": [
    {
     "data": {
      "application/vnd.jupyter.widget-view+json": {
       "model_id": "28543e78eb0c4d3c97776a32be03bbcd",
       "version_major": 2,
       "version_minor": 0
      },
      "text/plain": [
       "VBox()"
      ]
     },
     "metadata": {},
     "output_type": "display_data"
    },
    {
     "data": {
      "application/vnd.jupyter.widget-view+json": {
       "model_id": "",
       "version_major": 2,
       "version_minor": 0
      },
      "text/plain": [
       "FloatProgress(value=0.0, bar_style='info', description='Progress:', layout=Layout(height='25px', width='50%'),…"
      ]
     },
     "metadata": {},
     "output_type": "display_data"
    },
    {
     "name": "stderr",
     "output_type": "stream",
     "text": [
      "An error was encountered:\n",
      "name 'no_tradecount' is not defined\n",
      "Traceback (most recent call last):\n",
      "NameError: name 'no_tradecount' is not defined\n",
      "\n"
     ]
    }
   ],
   "source": [
    "#View the row with missing values:\n",
    "(\n",
    "    no_tradecount\n",
    "    .where('unix == 12628117525348800')\n",
    "    .show()\n",
    ")"
   ]
  },
  {
   "cell_type": "code",
   "execution_count": 12,
   "id": "f3c1060d",
   "metadata": {},
   "outputs": [
    {
     "data": {
      "application/vnd.jupyter.widget-view+json": {
       "model_id": "0e70008e361443728258996d36778c44",
       "version_major": 2,
       "version_minor": 0
      },
      "text/plain": [
       "VBox()"
      ]
     },
     "metadata": {},
     "output_type": "display_data"
    },
    {
     "data": {
      "application/vnd.jupyter.widget-view+json": {
       "model_id": "",
       "version_major": 2,
       "version_minor": 0
      },
      "text/plain": [
       "FloatProgress(value=0.0, bar_style='info', description='Progress:', layout=Layout(height='25px', width='50%'),…"
      ]
     },
     "metadata": {},
     "output_type": "display_data"
    },
    {
     "name": "stderr",
     "output_type": "stream",
     "text": [
      "An error was encountered:\n",
      "name 'no_tradecount' is not defined\n",
      "Traceback (most recent call last):\n",
      "NameError: name 'no_tradecount' is not defined\n",
      "\n"
     ]
    }
   ],
   "source": [
    "#Drop rows that have less than thresh NON-NULL values:\n",
    "df_clean = no_tradecount.dropna(thresh = 9)\n",
    "no_tradecount.count(), df_clean.count()"
   ]
  },
  {
   "cell_type": "markdown",
   "id": "b79d99e2",
   "metadata": {},
   "source": [
    "One row is dropped."
   ]
  },
  {
   "cell_type": "code",
   "execution_count": 13,
   "id": "31299fd2",
   "metadata": {},
   "outputs": [
    {
     "data": {
      "application/vnd.jupyter.widget-view+json": {
       "model_id": "130a4671ff72490aa45a3c3ddc8ff4aa",
       "version_major": 2,
       "version_minor": 0
      },
      "text/plain": [
       "VBox()"
      ]
     },
     "metadata": {},
     "output_type": "display_data"
    },
    {
     "data": {
      "application/vnd.jupyter.widget-view+json": {
       "model_id": "",
       "version_major": 2,
       "version_minor": 0
      },
      "text/plain": [
       "FloatProgress(value=0.0, bar_style='info', description='Progress:', layout=Layout(height='25px', width='50%'),…"
      ]
     },
     "metadata": {},
     "output_type": "display_data"
    },
    {
     "name": "stderr",
     "output_type": "stream",
     "text": [
      "An error was encountered:\n",
      "name 'df_clean' is not defined\n",
      "Traceback (most recent call last):\n",
      "NameError: name 'df_clean' is not defined\n",
      "\n"
     ]
    }
   ],
   "source": [
    "#Making sure the row with missing value is gone\n",
    "(\n",
    "    df_clean\n",
    "    .where('unix == 12628117525348800')\n",
    "    .show()\n",
    ")"
   ]
  },
  {
   "cell_type": "markdown",
   "id": "c2df7f05",
   "metadata": {},
   "source": [
    "The row with missing value is gone now."
   ]
  },
  {
   "cell_type": "markdown",
   "id": "9b0554d4",
   "metadata": {},
   "source": [
    "3. Descriptive statistics"
   ]
  },
  {
   "cell_type": "code",
   "execution_count": 14,
   "id": "535a774e",
   "metadata": {},
   "outputs": [
    {
     "data": {
      "application/vnd.jupyter.widget-view+json": {
       "model_id": "2f87c507bc014520abe953e3ba84fec6",
       "version_major": 2,
       "version_minor": 0
      },
      "text/plain": [
       "VBox()"
      ]
     },
     "metadata": {},
     "output_type": "display_data"
    },
    {
     "data": {
      "application/vnd.jupyter.widget-view+json": {
       "model_id": "",
       "version_major": 2,
       "version_minor": 0
      },
      "text/plain": [
       "FloatProgress(value=0.0, bar_style='info', description='Progress:', layout=Layout(height='25px', width='50%'),…"
      ]
     },
     "metadata": {},
     "output_type": "display_data"
    },
    {
     "name": "stderr",
     "output_type": "stream",
     "text": [
      "An error was encountered:\n",
      "name 'df_clean' is not defined\n",
      "Traceback (most recent call last):\n",
      "NameError: name 'df_clean' is not defined\n",
      "\n"
     ]
    }
   ],
   "source": [
    "#Describe numeric features:\n",
    "numeric = ['open','high','low','close','Volume BTC','Volume USDT']\n",
    "descriptive_stats = df_clean.describe(numeric)\n",
    "descriptive_stats.show(10)"
   ]
  },
  {
   "cell_type": "markdown",
   "id": "a9624be4",
   "metadata": {},
   "source": [
    "- Count: Each column has 36,398 values.\\\n",
    "- Mean: The means of open, high, low, close prices range from 13,028 to approximately 13,204 dollars. The difference between the means of high and low in an 1 hour is $176. On average, 2,053 BTCs and 34,907,045 USDT are being traded during the time period.\\\n",
    "- Standard deviation: Standard deviation gives a view of how widely values are dispersed from the average value. For example, if standard deviation of price is high, this indicates the price volatility. On the other hand, if the closing prices are close and do not fluctuate much from the average mean price, standard deviation is less and the markets volatility is considered less as well.\\\n",
    "- Min: This gives the min/lowest value of each column.\\\n",
    "- Max: This gives the max/highest value of each column."
   ]
  },
  {
   "cell_type": "markdown",
   "id": "e4c2c19a",
   "metadata": {},
   "source": [
    "Because unix and date data do not show anything meaningful, we do not do descriptive statistics on them."
   ]
  },
  {
   "cell_type": "markdown",
   "id": "4b62bce0",
   "metadata": {},
   "source": [
    "4. Visualization"
   ]
  },
  {
   "cell_type": "markdown",
   "id": "2f6e82fe",
   "metadata": {},
   "source": [
    "Histogram of Close"
   ]
  },
  {
   "cell_type": "code",
   "execution_count": 15,
   "id": "5b8c19cf",
   "metadata": {},
   "outputs": [
    {
     "data": {
      "application/vnd.jupyter.widget-view+json": {
       "model_id": "4400f0c4a69341b38c331ad62ef3277e",
       "version_major": 2,
       "version_minor": 0
      },
      "text/plain": [
       "VBox()"
      ]
     },
     "metadata": {},
     "output_type": "display_data"
    },
    {
     "data": {
      "application/vnd.jupyter.widget-view+json": {
       "model_id": "",
       "version_major": 2,
       "version_minor": 0
      },
      "text/plain": [
       "FloatProgress(value=0.0, bar_style='info', description='Progress:', layout=Layout(height='25px', width='50%'),…"
      ]
     },
     "metadata": {},
     "output_type": "display_data"
    },
    {
     "name": "stderr",
     "output_type": "stream",
     "text": [
      "An error was encountered:\n",
      "name 'df_clean' is not defined\n",
      "Traceback (most recent call last):\n",
      "NameError: name 'df_clean' is not defined\n",
      "\n"
     ]
    }
   ],
   "source": [
    "#generate bins and count of each bin\n",
    "histogram_close = (\n",
    "    df_clean\n",
    "    .select('close')\n",
    "    .rdd\n",
    "    .flatMap(lambda record: record)\n",
    "    .histogram(20)\n",
    ")\n",
    "histogram_close\n",
    "#display bin ranges\n",
    "for i in range(len(histogram_close[0])-1):\n",
    "    print('[' + str(round(histogram_close[0][i],2))\n",
    "        + ',' + str(round(histogram_close[0][i+1],2))\n",
    "          + ')'\n",
    "         )"
   ]
  },
  {
   "cell_type": "code",
   "execution_count": 16,
   "id": "e391ba9f",
   "metadata": {},
   "outputs": [
    {
     "data": {
      "application/vnd.jupyter.widget-view+json": {
       "model_id": "",
       "version_major": 2,
       "version_minor": 0
      },
      "text/plain": [
       "FloatProgress(value=0.0, bar_style='info', description='Progress:', layout=Layout(height='25px', width='50%'),…"
      ]
     },
     "metadata": {},
     "output_type": "display_data"
    },
    {
     "name": "stderr",
     "output_type": "stream",
     "text": [
      "An error was encountered:\n",
      "name 'histogram_close' is not defined\n",
      "Traceback (most recent call last):\n",
      "NameError: name 'histogram_close' is not defined\n",
      "\n"
     ]
    }
   ],
   "source": [
    "%%spark -o hist_close \n",
    "hist_close =  spark.createDataFrame(\n",
    "    list(zip(*histogram_close)), \n",
    "    ['close', 'counts'])\n",
    "import matplotlib\n",
    "import matplotlib.pyplot as plt\n",
    "hist_close.toPandas().set_index('close'\n",
    "            ).plot(kind='bar')\n",
    "%matplot plt"
   ]
  },
  {
   "cell_type": "markdown",
   "id": "c9300b99",
   "metadata": {},
   "source": [
    "According to this histogram, close prices mostly range from 2,919 to 12,167. Some are between 30,665 and 39,913, and between 46,079 and 61,494. Close prices range from 6,001 to 9,084 for approximately 12,000 times. The distribution of close prices is right-skewed. This indicates that the likelihood of an extremely large price is somewhat greater than the likelihood of an extremely low price. The close prices of BTC/USDT are not normally distributed."
   ]
  },
  {
   "cell_type": "markdown",
   "id": "d1685aeb",
   "metadata": {},
   "source": [
    "Histogram of High"
   ]
  },
  {
   "cell_type": "code",
   "execution_count": 17,
   "id": "c50d3afe",
   "metadata": {},
   "outputs": [
    {
     "data": {
      "application/vnd.jupyter.widget-view+json": {
       "model_id": "06d0545dec904ff3921522ac1737ee75",
       "version_major": 2,
       "version_minor": 0
      },
      "text/plain": [
       "VBox()"
      ]
     },
     "metadata": {},
     "output_type": "display_data"
    },
    {
     "data": {
      "application/vnd.jupyter.widget-view+json": {
       "model_id": "",
       "version_major": 2,
       "version_minor": 0
      },
      "text/plain": [
       "FloatProgress(value=0.0, bar_style='info', description='Progress:', layout=Layout(height='25px', width='50%'),…"
      ]
     },
     "metadata": {},
     "output_type": "display_data"
    },
    {
     "name": "stderr",
     "output_type": "stream",
     "text": [
      "An error was encountered:\n",
      "name 'df_clean' is not defined\n",
      "Traceback (most recent call last):\n",
      "NameError: name 'df_clean' is not defined\n",
      "\n"
     ]
    }
   ],
   "source": [
    "histogram_high = (\n",
    "    df_clean\n",
    "    .select('high')\n",
    "    .rdd\n",
    "    .flatMap(lambda record: record)\n",
    "    .histogram(20)\n",
    ")\n",
    "for i in range(len(histogram_high[0])-1):\n",
    "    print('[' + str(round(histogram_high[0][i],2))\n",
    "        + ',' + str(round(histogram_high[0][i+1],2))\n",
    "          + ')'\n",
    "         )"
   ]
  },
  {
   "cell_type": "code",
   "execution_count": 18,
   "id": "c8f10efd",
   "metadata": {},
   "outputs": [
    {
     "data": {
      "application/vnd.jupyter.widget-view+json": {
       "model_id": "",
       "version_major": 2,
       "version_minor": 0
      },
      "text/plain": [
       "FloatProgress(value=0.0, bar_style='info', description='Progress:', layout=Layout(height='25px', width='50%'),…"
      ]
     },
     "metadata": {},
     "output_type": "display_data"
    },
    {
     "name": "stderr",
     "output_type": "stream",
     "text": [
      "An error was encountered:\n",
      "name 'histogram_high' is not defined\n",
      "Traceback (most recent call last):\n",
      "NameError: name 'histogram_high' is not defined\n",
      "\n"
     ]
    }
   ],
   "source": [
    "%%spark -o hist_high\n",
    "hist_high =  spark.createDataFrame(\n",
    "    list(zip(*histogram_high)), \n",
    "    ['high', 'counts'])\n",
    "import matplotlib\n",
    "import matplotlib.pyplot as plt\n",
    "hist_high.toPandas().set_index('high'\n",
    "            ).plot(kind='bar')\n",
    "%matplot plt"
   ]
  },
  {
   "cell_type": "markdown",
   "id": "25b5fd48",
   "metadata": {},
   "source": [
    "High prices mostly range from 2,950 to 12,235. Some are between 30,806 and 40,092, and between 46,282 and 61,758. High prices range from 6,045 to 9,140 for approximately 12,000 times. The distribution of high prices is right-skewed. This indicates that the likelihood of an extremely large price is somewhat greater than the likelihood of an extremely low price. The high prices of BTC/USDT are not normally distributed."
   ]
  },
  {
   "cell_type": "markdown",
   "id": "a09e7a0a",
   "metadata": {},
   "source": [
    "Histogram of low"
   ]
  },
  {
   "cell_type": "code",
   "execution_count": 19,
   "id": "d2435bac",
   "metadata": {},
   "outputs": [
    {
     "data": {
      "application/vnd.jupyter.widget-view+json": {
       "model_id": "dec9772606db4552b76c7737b5fea2f2",
       "version_major": 2,
       "version_minor": 0
      },
      "text/plain": [
       "VBox()"
      ]
     },
     "metadata": {},
     "output_type": "display_data"
    },
    {
     "data": {
      "application/vnd.jupyter.widget-view+json": {
       "model_id": "",
       "version_major": 2,
       "version_minor": 0
      },
      "text/plain": [
       "FloatProgress(value=0.0, bar_style='info', description='Progress:', layout=Layout(height='25px', width='50%'),…"
      ]
     },
     "metadata": {},
     "output_type": "display_data"
    },
    {
     "name": "stderr",
     "output_type": "stream",
     "text": [
      "An error was encountered:\n",
      "name 'df_clean' is not defined\n",
      "Traceback (most recent call last):\n",
      "NameError: name 'df_clean' is not defined\n",
      "\n"
     ]
    }
   ],
   "source": [
    "histogram_low = (\n",
    "    df_clean\n",
    "    .select('low')\n",
    "    .rdd\n",
    "    .flatMap(lambda record: record)\n",
    "    .histogram(20)\n",
    ")\n",
    "for i in range(len(histogram_low[0])-1):\n",
    "    print('[' + str(round(histogram_low[0][i],2))\n",
    "        + ',' + str(round(histogram_low[0][i+1],2))\n",
    "          + ')'\n",
    "         )"
   ]
  },
  {
   "cell_type": "code",
   "execution_count": 20,
   "id": "8968f491",
   "metadata": {},
   "outputs": [
    {
     "data": {
      "application/vnd.jupyter.widget-view+json": {
       "model_id": "",
       "version_major": 2,
       "version_minor": 0
      },
      "text/plain": [
       "FloatProgress(value=0.0, bar_style='info', description='Progress:', layout=Layout(height='25px', width='50%'),…"
      ]
     },
     "metadata": {},
     "output_type": "display_data"
    },
    {
     "name": "stderr",
     "output_type": "stream",
     "text": [
      "An error was encountered:\n",
      "name 'histogram_low' is not defined\n",
      "Traceback (most recent call last):\n",
      "NameError: name 'histogram_low' is not defined\n",
      "\n"
     ]
    }
   ],
   "source": [
    "%%spark -o hist_low\n",
    "hist_low =  spark.createDataFrame(\n",
    "    list(zip(*histogram_low)), \n",
    "    ['low', 'counts'])\n",
    "import matplotlib\n",
    "import matplotlib.pyplot as plt\n",
    "hist_low.toPandas().set_index('low'\n",
    "            ).plot(kind='bar')\n",
    "%matplot plt"
   ]
  },
  {
   "cell_type": "markdown",
   "id": "5d52d3f7",
   "metadata": {},
   "source": [
    "Low prices mostly range from 2,817 to 12,036. Some are between 30,475 and 39,694, and between 45,841 and 61,206. Low prices range from 5,890 to 8,963 for approximately 12,000 times. The distribution of low prices is right-skewed. This indicates that the likelihood of an extremely large price is somewhat greater than the likelihood of an extremely low price. The low prices of BTC/USDT are not normally distributed."
   ]
  },
  {
   "cell_type": "markdown",
   "id": "7c009a69",
   "metadata": {},
   "source": [
    "Histogram of open"
   ]
  },
  {
   "cell_type": "code",
   "execution_count": 21,
   "id": "649e5a6a",
   "metadata": {},
   "outputs": [
    {
     "data": {
      "application/vnd.jupyter.widget-view+json": {
       "model_id": "0e754888a81c431f9ddd3ecc44e5cda6",
       "version_major": 2,
       "version_minor": 0
      },
      "text/plain": [
       "VBox()"
      ]
     },
     "metadata": {},
     "output_type": "display_data"
    },
    {
     "data": {
      "application/vnd.jupyter.widget-view+json": {
       "model_id": "",
       "version_major": 2,
       "version_minor": 0
      },
      "text/plain": [
       "FloatProgress(value=0.0, bar_style='info', description='Progress:', layout=Layout(height='25px', width='50%'),…"
      ]
     },
     "metadata": {},
     "output_type": "display_data"
    },
    {
     "name": "stderr",
     "output_type": "stream",
     "text": [
      "An error was encountered:\n",
      "name 'df_clean' is not defined\n",
      "Traceback (most recent call last):\n",
      "NameError: name 'df_clean' is not defined\n",
      "\n"
     ]
    }
   ],
   "source": [
    "histogram_open = (\n",
    "    df_clean\n",
    "    .select('open')\n",
    "    .rdd\n",
    "    .flatMap(lambda record: record)\n",
    "    .histogram(20)\n",
    ")\n",
    "for i in range(len(histogram_open[0])-1):\n",
    "    print('[' + str(round(histogram_open[0][i],2))\n",
    "        + ',' + str(round(histogram_open[0][i+1],2))\n",
    "          + ')'\n",
    "         )"
   ]
  },
  {
   "cell_type": "code",
   "execution_count": 22,
   "id": "37a390c0",
   "metadata": {},
   "outputs": [
    {
     "data": {
      "application/vnd.jupyter.widget-view+json": {
       "model_id": "",
       "version_major": 2,
       "version_minor": 0
      },
      "text/plain": [
       "FloatProgress(value=0.0, bar_style='info', description='Progress:', layout=Layout(height='25px', width='50%'),…"
      ]
     },
     "metadata": {},
     "output_type": "display_data"
    },
    {
     "name": "stderr",
     "output_type": "stream",
     "text": [
      "An error was encountered:\n",
      "name 'histogram_open' is not defined\n",
      "Traceback (most recent call last):\n",
      "NameError: name 'histogram_open' is not defined\n",
      "\n"
     ]
    }
   ],
   "source": [
    "%%spark -o hist_open\n",
    "hist_open =  spark.createDataFrame(\n",
    "    list(zip(*histogram_open)), \n",
    "    ['open', 'counts'])\n",
    "import matplotlib\n",
    "import matplotlib.pyplot as plt\n",
    "hist_open.toPandas().set_index('open'\n",
    "            ).plot(kind='bar')\n",
    "%matplot plt"
   ]
  },
  {
   "cell_type": "markdown",
   "id": "e26463e4",
   "metadata": {},
   "source": [
    "Open prices mostly range from 2,919 to 12,167. Some are between 30,665 and 39,913, and between 46,079 and 61,494. Open prices range from 6,001 to 9,084 for approximately 12,000 times. The distribution of open prices is right-skewed. This indicates that the likelihood of an extremely large price is somewhat greater than the likelihood of an extremely low price. The low prices of BTC/USDT are not normally distributed."
   ]
  },
  {
   "cell_type": "markdown",
   "id": "e63b114c",
   "metadata": {},
   "source": [
    "Histogram of Volume BTC"
   ]
  },
  {
   "cell_type": "code",
   "execution_count": 23,
   "id": "c27eb1a3",
   "metadata": {},
   "outputs": [
    {
     "data": {
      "application/vnd.jupyter.widget-view+json": {
       "model_id": "d1075e948f1f40a1b9c90eaf63b40012",
       "version_major": 2,
       "version_minor": 0
      },
      "text/plain": [
       "VBox()"
      ]
     },
     "metadata": {},
     "output_type": "display_data"
    },
    {
     "data": {
      "application/vnd.jupyter.widget-view+json": {
       "model_id": "",
       "version_major": 2,
       "version_minor": 0
      },
      "text/plain": [
       "FloatProgress(value=0.0, bar_style='info', description='Progress:', layout=Layout(height='25px', width='50%'),…"
      ]
     },
     "metadata": {},
     "output_type": "display_data"
    },
    {
     "name": "stderr",
     "output_type": "stream",
     "text": [
      "An error was encountered:\n",
      "name 'df_clean' is not defined\n",
      "Traceback (most recent call last):\n",
      "NameError: name 'df_clean' is not defined\n",
      "\n"
     ]
    }
   ],
   "source": [
    "histogram_volBTC = (\n",
    "    df_clean\n",
    "    .select('Volume BTC')\n",
    "    .rdd\n",
    "    .flatMap(lambda record: record)\n",
    "    .histogram(30)\n",
    ")\n",
    "for i in range(len(histogram_volBTC[0])-1):\n",
    "    print('[' + str(round(histogram_volBTC[0][i],2))\n",
    "        + ',' + str(round(histogram_volBTC[0][i+1],2))\n",
    "          + ')'\n",
    "         )"
   ]
  },
  {
   "cell_type": "code",
   "execution_count": 24,
   "id": "50dde262",
   "metadata": {},
   "outputs": [
    {
     "data": {
      "application/vnd.jupyter.widget-view+json": {
       "model_id": "",
       "version_major": 2,
       "version_minor": 0
      },
      "text/plain": [
       "FloatProgress(value=0.0, bar_style='info', description='Progress:', layout=Layout(height='25px', width='50%'),…"
      ]
     },
     "metadata": {},
     "output_type": "display_data"
    },
    {
     "name": "stderr",
     "output_type": "stream",
     "text": [
      "An error was encountered:\n",
      "name 'histogram_volBTC' is not defined\n",
      "Traceback (most recent call last):\n",
      "NameError: name 'histogram_volBTC' is not defined\n",
      "\n"
     ]
    }
   ],
   "source": [
    "%%spark -o hist_volBTC\n",
    "hist_volBTC =  spark.createDataFrame(\n",
    "    list(zip(*histogram_volBTC)), \n",
    "    ['Volume BTC', 'counts'])\n",
    "import matplotlib\n",
    "import matplotlib.pyplot as plt\n",
    "hist_volBTC.toPandas().set_index('Volume BTC'\n",
    "            ).plot(kind='bar')\n",
    "%matplot plt"
   ]
  },
  {
   "cell_type": "markdown",
   "id": "efc6c188",
   "metadata": {},
   "source": [
    "The distribution of Volume BTC is positively skewed. Most Volume BTC are between 0 and 3,150. In 1 hour, approximately 0 to 1,575 BTC were traded with the higest frequency of 19,000."
   ]
  },
  {
   "cell_type": "markdown",
   "id": "fc9fd95d",
   "metadata": {},
   "source": [
    "Histogram of USDT"
   ]
  },
  {
   "cell_type": "code",
   "execution_count": 25,
   "id": "88c2ba2a",
   "metadata": {},
   "outputs": [
    {
     "data": {
      "application/vnd.jupyter.widget-view+json": {
       "model_id": "af51bf4b121348a5abe9e7303602c14a",
       "version_major": 2,
       "version_minor": 0
      },
      "text/plain": [
       "VBox()"
      ]
     },
     "metadata": {},
     "output_type": "display_data"
    },
    {
     "data": {
      "application/vnd.jupyter.widget-view+json": {
       "model_id": "",
       "version_major": 2,
       "version_minor": 0
      },
      "text/plain": [
       "FloatProgress(value=0.0, bar_style='info', description='Progress:', layout=Layout(height='25px', width='50%'),…"
      ]
     },
     "metadata": {},
     "output_type": "display_data"
    },
    {
     "name": "stderr",
     "output_type": "stream",
     "text": [
      "An error was encountered:\n",
      "name 'df_clean' is not defined\n",
      "Traceback (most recent call last):\n",
      "NameError: name 'df_clean' is not defined\n",
      "\n"
     ]
    }
   ],
   "source": [
    "histogram_volUSDT = (\n",
    "    df_clean\n",
    "    .select('Volume USDT')\n",
    "    .rdd\n",
    "    .flatMap(lambda record: record)\n",
    "    .histogram(30)\n",
    ")\n",
    "for i in range(len(histogram_volUSDT[0])-1):\n",
    "    print('[' + str(round(histogram_volUSDT[0][i],2))\n",
    "        + ',' + str(round(histogram_volUSDT[0][i+1],2))\n",
    "          + ')'\n",
    "         )"
   ]
  },
  {
   "cell_type": "code",
   "execution_count": 26,
   "id": "3a9b2868",
   "metadata": {},
   "outputs": [
    {
     "data": {
      "application/vnd.jupyter.widget-view+json": {
       "model_id": "",
       "version_major": 2,
       "version_minor": 0
      },
      "text/plain": [
       "FloatProgress(value=0.0, bar_style='info', description='Progress:', layout=Layout(height='25px', width='50%'),…"
      ]
     },
     "metadata": {},
     "output_type": "display_data"
    },
    {
     "name": "stderr",
     "output_type": "stream",
     "text": [
      "An error was encountered:\n",
      "name 'histogram_volUSDT' is not defined\n",
      "Traceback (most recent call last):\n",
      "NameError: name 'histogram_volUSDT' is not defined\n",
      "\n"
     ]
    }
   ],
   "source": [
    "%%spark -o hist_volUSDT\n",
    "hist_volUSDT =  spark.createDataFrame(\n",
    "    list(zip(*histogram_volUSDT)), \n",
    "    ['Volume USDT', 'counts'])\n",
    "import matplotlib\n",
    "import matplotlib.pyplot as plt\n",
    "hist_volUSDT.toPandas().set_index('Volume USDT'\n",
    "            ).plot(kind='bar')\n",
    "%matplot plt"
   ]
  },
  {
   "cell_type": "markdown",
   "id": "f60c33c5",
   "metadata": {},
   "source": [
    "The distribution of Volume USDT is positively skewed. Most Volume USDT are between 0 and 50,482,160 with the higest frequency of 30,000."
   ]
  },
  {
   "cell_type": "code",
   "execution_count": 27,
   "id": "775dc2ea",
   "metadata": {},
   "outputs": [
    {
     "data": {
      "application/vnd.jupyter.widget-view+json": {
       "model_id": "566a63e2bc484e9082e466cb47ecbe36",
       "version_major": 2,
       "version_minor": 0
      },
      "text/plain": [
       "VBox()"
      ]
     },
     "metadata": {},
     "output_type": "display_data"
    },
    {
     "data": {
      "application/vnd.jupyter.widget-view+json": {
       "model_id": "",
       "version_major": 2,
       "version_minor": 0
      },
      "text/plain": [
       "FloatProgress(value=0.0, bar_style='info', description='Progress:', layout=Layout(height='25px', width='50%'),…"
      ]
     },
     "metadata": {},
     "output_type": "display_data"
    },
    {
     "name": "stderr",
     "output_type": "stream",
     "text": [
      "An error was encountered:\n",
      "name 'df_clean' is not defined\n",
      "Traceback (most recent call last):\n",
      "NameError: name 'df_clean' is not defined\n",
      "\n"
     ]
    }
   ],
   "source": [
    "df_pd = df_clean.toPandas()"
   ]
  },
  {
   "cell_type": "code",
   "execution_count": 28,
   "id": "47c86412",
   "metadata": {},
   "outputs": [
    {
     "data": {
      "application/vnd.jupyter.widget-view+json": {
       "model_id": "6d5bf7463c174a3285ca0cd4556d5458",
       "version_major": 2,
       "version_minor": 0
      },
      "text/plain": [
       "VBox()"
      ]
     },
     "metadata": {},
     "output_type": "display_data"
    },
    {
     "data": {
      "application/vnd.jupyter.widget-view+json": {
       "model_id": "",
       "version_major": 2,
       "version_minor": 0
      },
      "text/plain": [
       "FloatProgress(value=0.0, bar_style='info', description='Progress:', layout=Layout(height='25px', width='50%'),…"
      ]
     },
     "metadata": {},
     "output_type": "display_data"
    },
    {
     "name": "stderr",
     "output_type": "stream",
     "text": [
      "An error was encountered:\n",
      "name 'df_pd' is not defined\n",
      "Traceback (most recent call last):\n",
      "NameError: name 'df_pd' is not defined\n",
      "\n"
     ]
    }
   ],
   "source": [
    "#Scatter Plot for Low and Volume BTC\n",
    "import matplotlib.pyplot as plt\n",
    "plt.cla()\n",
    "plt.scatter(df_pd['low']\n",
    "         , df_pd['Volume BTC'], \n",
    "            label=\"Relationship between low and Volume BTC\")\n",
    "plt.xlabel(\"low\")\n",
    "plt.ylabel(\"Volume BTC\")\n",
    "plt.legend(loc='upper left')\n",
    "%matplot plt"
   ]
  },
  {
   "cell_type": "markdown",
   "id": "444bdc96",
   "metadata": {},
   "source": []
  },
  {
   "cell_type": "code",
   "execution_count": 29,
   "id": "ffc80389",
   "metadata": {},
   "outputs": [
    {
     "data": {
      "application/vnd.jupyter.widget-view+json": {
       "model_id": "21d7054c25b5459a8c1dd2f90faed1a5",
       "version_major": 2,
       "version_minor": 0
      },
      "text/plain": [
       "VBox()"
      ]
     },
     "metadata": {},
     "output_type": "display_data"
    },
    {
     "data": {
      "application/vnd.jupyter.widget-view+json": {
       "model_id": "",
       "version_major": 2,
       "version_minor": 0
      },
      "text/plain": [
       "FloatProgress(value=0.0, bar_style='info', description='Progress:', layout=Layout(height='25px', width='50%'),…"
      ]
     },
     "metadata": {},
     "output_type": "display_data"
    },
    {
     "name": "stderr",
     "output_type": "stream",
     "text": [
      "An error was encountered:\n",
      "name 'df_pd' is not defined\n",
      "Traceback (most recent call last):\n",
      "NameError: name 'df_pd' is not defined\n",
      "\n"
     ]
    }
   ],
   "source": [
    "#Scatter Plot for High and Volume BTC\n",
    "import matplotlib.pyplot as plt\n",
    "plt.cla()\n",
    "plt.scatter(df_pd['high']\n",
    "         , df_pd['Volume BTC'], \n",
    "            label=\"Relationship between high and Volume BTC\")\n",
    "plt.xlabel(\"high\")\n",
    "plt.ylabel(\"Volume BTC\")\n",
    "plt.legend(loc='upper left')\n",
    "%matplot plt"
   ]
  },
  {
   "cell_type": "markdown",
   "id": "8ffc194e",
   "metadata": {},
   "source": [
    "The relationship between High and Volume BTC is cointigrated. Most of the time, a big increase in High will cause Volume BTC to increase and a big decrease in High will cause Volume BTC to decrease. "
   ]
  },
  {
   "cell_type": "code",
   "execution_count": 30,
   "id": "0fe64d28",
   "metadata": {},
   "outputs": [
    {
     "data": {
      "application/vnd.jupyter.widget-view+json": {
       "model_id": "4d15df3cd2a541c7b4af565bdfb5204a",
       "version_major": 2,
       "version_minor": 0
      },
      "text/plain": [
       "VBox()"
      ]
     },
     "metadata": {},
     "output_type": "display_data"
    },
    {
     "data": {
      "application/vnd.jupyter.widget-view+json": {
       "model_id": "",
       "version_major": 2,
       "version_minor": 0
      },
      "text/plain": [
       "FloatProgress(value=0.0, bar_style='info', description='Progress:', layout=Layout(height='25px', width='50%'),…"
      ]
     },
     "metadata": {},
     "output_type": "display_data"
    },
    {
     "name": "stderr",
     "output_type": "stream",
     "text": [
      "An error was encountered:\n",
      "name 'df_pd' is not defined\n",
      "Traceback (most recent call last):\n",
      "NameError: name 'df_pd' is not defined\n",
      "\n"
     ]
    }
   ],
   "source": [
    "#Scatter Plot for close and Volume BTC\n",
    "import matplotlib.pyplot as plt\n",
    "plt.cla()\n",
    "plt.scatter(df_pd['close']\n",
    "         , df_pd['Volume BTC'], \n",
    "            label=\"Relationship between close and Volume BTC\")\n",
    "plt.xlabel(\"close\")\n",
    "plt.ylabel(\"Volume BTC\")\n",
    "plt.legend(loc='upper left')\n",
    "%matplot plt"
   ]
  },
  {
   "cell_type": "markdown",
   "id": "f329df02",
   "metadata": {},
   "source": [
    "The relationship between Close and Volume BTC is cointigrated. Most of the time, a big increase in Close will cause Volume BTC to increase and a big decrease in Close will cause Volume BTC to decrease."
   ]
  },
  {
   "cell_type": "code",
   "execution_count": 31,
   "id": "83626d20",
   "metadata": {},
   "outputs": [
    {
     "data": {
      "application/vnd.jupyter.widget-view+json": {
       "model_id": "e1f30f50d9b44596afa5a39f7686d6a3",
       "version_major": 2,
       "version_minor": 0
      },
      "text/plain": [
       "VBox()"
      ]
     },
     "metadata": {},
     "output_type": "display_data"
    },
    {
     "data": {
      "application/vnd.jupyter.widget-view+json": {
       "model_id": "",
       "version_major": 2,
       "version_minor": 0
      },
      "text/plain": [
       "FloatProgress(value=0.0, bar_style='info', description='Progress:', layout=Layout(height='25px', width='50%'),…"
      ]
     },
     "metadata": {},
     "output_type": "display_data"
    },
    {
     "name": "stderr",
     "output_type": "stream",
     "text": [
      "An error was encountered:\n",
      "name 'df_pd' is not defined\n",
      "Traceback (most recent call last):\n",
      "NameError: name 'df_pd' is not defined\n",
      "\n"
     ]
    }
   ],
   "source": [
    "#Scatter Plot for Volume BTC and Volume USDT\n",
    "import matplotlib.pyplot as plt\n",
    "plt.cla()\n",
    "plt.scatter(df_pd['Volume BTC']\n",
    "         , df_pd['Volume USDT'], \n",
    "            label=\"Relationship between Volume BTC and Volume USDT\")\n",
    "plt.xlabel(\"Volume BTC\")\n",
    "plt.ylabel(\"Volume USDT\")\n",
    "plt.legend(loc='upper left')\n",
    "%matplot plt"
   ]
  },
  {
   "cell_type": "markdown",
   "id": "1208fed9",
   "metadata": {},
   "source": []
  },
  {
   "cell_type": "markdown",
   "id": "7fef77d8",
   "metadata": {},
   "source": [
    "5. Outlier analysis"
   ]
  },
  {
   "cell_type": "code",
   "execution_count": null,
   "id": "d1423d2e",
   "metadata": {},
   "outputs": [],
   "source": []
  },
  {
   "cell_type": "markdown",
   "id": "6ba2e1b5",
   "metadata": {},
   "source": [
    "Identify outliers based on visualization:\\\n",
    "As we can see from the charts, the outliers of Volume BTC are those above 30000, the outliers of Volume USDT are those above 1000000000, the outliers of prices (open, close, high, low) are those above 59000."
   ]
  },
  {
   "cell_type": "code",
   "execution_count": 32,
   "id": "52b36f02",
   "metadata": {},
   "outputs": [
    {
     "data": {
      "application/vnd.jupyter.widget-view+json": {
       "model_id": "50b7b52813a948bf83415cb24200b7fd",
       "version_major": 2,
       "version_minor": 0
      },
      "text/plain": [
       "VBox()"
      ]
     },
     "metadata": {},
     "output_type": "display_data"
    },
    {
     "data": {
      "application/vnd.jupyter.widget-view+json": {
       "model_id": "",
       "version_major": 2,
       "version_minor": 0
      },
      "text/plain": [
       "FloatProgress(value=0.0, bar_style='info', description='Progress:', layout=Layout(height='25px', width='50%'),…"
      ]
     },
     "metadata": {},
     "output_type": "display_data"
    },
    {
     "name": "stderr",
     "output_type": "stream",
     "text": [
      "An error was encountered:\n",
      "name 'df_clean' is not defined\n",
      "Traceback (most recent call last):\n",
      "NameError: name 'df_clean' is not defined\n",
      "\n"
     ]
    }
   ],
   "source": [
    "#Filter outliers\n",
    "df_no_outlier = df_clean.where((df_clean['Volume BTC'] < 30000) & (df_clean['Volume USDT'] < 1000000000) & (df_clean['open'] < 59000) & (df_clean['close'] < 59000) &(df_clean['high'] < 59000) &(df_clean['low'] < 59000))"
   ]
  },
  {
   "cell_type": "markdown",
   "id": "f9deba37",
   "metadata": {},
   "source": [
    "Approximately 1% of the data are outliers and were eliminated."
   ]
  },
  {
   "cell_type": "markdown",
   "id": "575ee12c",
   "metadata": {},
   "source": [
    "6."
   ]
  },
  {
   "cell_type": "code",
   "execution_count": 33,
   "id": "e657d4fe",
   "metadata": {},
   "outputs": [
    {
     "data": {
      "application/vnd.jupyter.widget-view+json": {
       "model_id": "ce88035a20324708a7df31c45948308a",
       "version_major": 2,
       "version_minor": 0
      },
      "text/plain": [
       "VBox()"
      ]
     },
     "metadata": {},
     "output_type": "display_data"
    },
    {
     "data": {
      "application/vnd.jupyter.widget-view+json": {
       "model_id": "",
       "version_major": 2,
       "version_minor": 0
      },
      "text/plain": [
       "FloatProgress(value=0.0, bar_style='info', description='Progress:', layout=Layout(height='25px', width='50%'),…"
      ]
     },
     "metadata": {},
     "output_type": "display_data"
    },
    {
     "name": "stderr",
     "output_type": "stream",
     "text": [
      "An error was encountered:\n",
      "name 'df_no_outlier' is not defined\n",
      "Traceback (most recent call last):\n",
      "NameError: name 'df_no_outlier' is not defined\n",
      "\n"
     ]
    }
   ],
   "source": [
    "#Rerun descriptive statistics\n",
    "stat_no_outlier = df_no_outlier.describe(numeric)\n",
    "stat_no_outlier.show(10)"
   ]
  },
  {
   "cell_type": "markdown",
   "id": "c727c41d",
   "metadata": {},
   "source": [
    "Redraw histograms: Done in Jupyter Notebook named 'Group 6 - Visualization'."
   ]
  },
  {
   "cell_type": "markdown",
   "id": "dd1dae59",
   "metadata": {},
   "source": [
    "Histogram of numeric features"
   ]
  },
  {
   "cell_type": "markdown",
   "id": "831a935f",
   "metadata": {},
   "source": [
    "Histogram of close price"
   ]
  },
  {
   "cell_type": "code",
   "execution_count": 34,
   "id": "bf79b68f",
   "metadata": {
    "collapsed": true,
    "jupyter": {
     "outputs_hidden": true
    }
   },
   "outputs": [
    {
     "data": {
      "application/vnd.jupyter.widget-view+json": {
       "model_id": "b0ea1c761cc24d7badb5701f90eae11d",
       "version_major": 2,
       "version_minor": 0
      },
      "text/plain": [
       "VBox()"
      ]
     },
     "metadata": {},
     "output_type": "display_data"
    },
    {
     "data": {
      "application/vnd.jupyter.widget-view+json": {
       "model_id": "",
       "version_major": 2,
       "version_minor": 0
      },
      "text/plain": [
       "FloatProgress(value=0.0, bar_style='info', description='Progress:', layout=Layout(height='25px', width='50%'),…"
      ]
     },
     "metadata": {},
     "output_type": "display_data"
    },
    {
     "name": "stderr",
     "output_type": "stream",
     "text": [
      "An error was encountered:\n",
      "name 'stat_no_outlier' is not defined\n",
      "Traceback (most recent call last):\n",
      "NameError: name 'stat_no_outlier' is not defined\n",
      "\n"
     ]
    }
   ],
   "source": [
    "#generate bins and count of each bin\n",
    "histogram_close = (\n",
    "    stat_no_outlier\n",
    "    .select('close')\n",
    "    .rdd\n",
    "    .flatMap(lambda record: record)\n",
    "    .histogram(20)\n",
    ")\n",
    "histogram_close\n",
    "#display bin ranges\n",
    "for i in range(len(histogram_close[0])-1):\n",
    "    print('[' + str(round(histogram_close[0][i],2))\n",
    "        + ',' + str(round(histogram_close[0][i+1],2))\n",
    "          + ')'\n",
    "         )"
   ]
  },
  {
   "cell_type": "code",
   "execution_count": 35,
   "id": "6db7fc4c",
   "metadata": {},
   "outputs": [
    {
     "data": {
      "application/vnd.jupyter.widget-view+json": {
       "model_id": "",
       "version_major": 2,
       "version_minor": 0
      },
      "text/plain": [
       "FloatProgress(value=0.0, bar_style='info', description='Progress:', layout=Layout(height='25px', width='50%'),…"
      ]
     },
     "metadata": {},
     "output_type": "display_data"
    },
    {
     "name": "stderr",
     "output_type": "stream",
     "text": [
      "An error was encountered:\n",
      "name 'histogram_close' is not defined\n",
      "Traceback (most recent call last):\n",
      "NameError: name 'histogram_close' is not defined\n",
      "\n"
     ]
    }
   ],
   "source": [
    "%%spark -o hist_close \n",
    "hist_close =  spark.createDataFrame(\n",
    "    list(zip(*histogram_close)), \n",
    "    ['close', 'counts'])\n",
    "import matplotlib\n",
    "import matplotlib.pyplot as plt\n",
    "hist_close.toPandas().set_index('close'\n",
    "            ).plot(kind='bar')\n",
    "%matplot plt"
   ]
  },
  {
   "cell_type": "markdown",
   "id": "42e52f7c",
   "metadata": {},
   "source": [
    "Histogram of open price"
   ]
  },
  {
   "cell_type": "code",
   "execution_count": null,
   "id": "c4530b32",
   "metadata": {},
   "outputs": [],
   "source": [
    "#generate bins and count of each bin\n",
    "histogram_open = (\n",
    "    stat_no_outlier\n",
    "    .select('open')\n",
    "    .rdd\n",
    "    .flatMap(lambda record: record)\n",
    "    .histogram(20)\n",
    ")\n",
    "histogram_open\n",
    "#display bin ranges\n",
    "for i in range(len(histogram_open[0])-1):\n",
    "    print('[' + str(round(histogram_open[0][i],2))\n",
    "        + ',' + str(round(histogram_open[0][i+1],2))\n",
    "          + ')'\n",
    "         )"
   ]
  },
  {
   "cell_type": "code",
   "execution_count": null,
   "id": "79a89483",
   "metadata": {},
   "outputs": [],
   "source": [
    "%%spark -o hist_open \n",
    "hist_open =  spark.createDataFrame(\n",
    "    list(zip(*histogram_open)), \n",
    "    ['open', 'counts'])\n",
    "import matplotlib\n",
    "import matplotlib.pyplot as plt\n",
    "hist_close.toPandas().set_index('open'\n",
    "            ).plot(kind='bar')\n",
    "%matplot plt"
   ]
  },
  {
   "cell_type": "markdown",
   "id": "81a78abf",
   "metadata": {},
   "source": [
    "Histogram of low price"
   ]
  },
  {
   "cell_type": "code",
   "execution_count": null,
   "id": "0ef4f829",
   "metadata": {},
   "outputs": [],
   "source": [
    "#generate bins and count of each bin\n",
    "histogram_low = (\n",
    "    stat_no_outlier\n",
    "    .select('low')\n",
    "    .rdd\n",
    "    .flatMap(lambda record: record)\n",
    "    .histogram(20)\n",
    ")\n",
    "histogram_low\n",
    "#display bin ranges\n",
    "for i in range(len(histogram_low[0])-1):\n",
    "    print('[' + str(round(histogram_low[0][i],2))\n",
    "        + ',' + str(round(histogram_low[0][i+1],2))\n",
    "          + ')'\n",
    "         )"
   ]
  },
  {
   "cell_type": "code",
   "execution_count": null,
   "id": "0cdf4ad6",
   "metadata": {},
   "outputs": [],
   "source": [
    "%%spark -o hist_low \n",
    "hist_low =  spark.createDataFrame(\n",
    "    list(zip(*histogram_low)), \n",
    "    ['low', 'counts'])\n",
    "import matplotlib\n",
    "import matplotlib.pyplot as plt\n",
    "hist_close.toPandas().set_index('low'\n",
    "            ).plot(kind='bar')\n",
    "%matplot plt"
   ]
  },
  {
   "cell_type": "markdown",
   "id": "2e2939fb",
   "metadata": {},
   "source": [
    "Histogram of high price"
   ]
  },
  {
   "cell_type": "code",
   "execution_count": null,
   "id": "0638eadd",
   "metadata": {},
   "outputs": [],
   "source": [
    "#generate bins and count of each bin\n",
    "histogram_high = (\n",
    "    stat_no_outlier\n",
    "    .select('high')\n",
    "    .rdd\n",
    "    .flatMap(lambda record: record)\n",
    "    .histogram(20)\n",
    ")\n",
    "histogram_high\n",
    "#display bin ranges\n",
    "for i in range(len(histogram_high[0])-1):\n",
    "    print('[' + str(round(histogram_high[0][i],2))\n",
    "        + ',' + str(round(histogram_high[0][i+1],2))\n",
    "          + ')'\n",
    "         )"
   ]
  },
  {
   "cell_type": "code",
   "execution_count": null,
   "id": "5180a515",
   "metadata": {},
   "outputs": [],
   "source": [
    "%%spark -o hist_high \n",
    "hist_high =  spark.createDataFrame(\n",
    "    list(zip(*histogram_high)), \n",
    "    ['high', 'counts'])\n",
    "import matplotlib\n",
    "import matplotlib.pyplot as plt\n",
    "hist_high.toPandas().set_index('high'\n",
    "            ).plot(kind='bar')\n",
    "%matplot plt"
   ]
  },
  {
   "cell_type": "markdown",
   "id": "73d8d616",
   "metadata": {},
   "source": [
    "Histogram of volume BTC"
   ]
  },
  {
   "cell_type": "code",
   "execution_count": null,
   "id": "10dd8921",
   "metadata": {},
   "outputs": [],
   "source": [
    "#generate bins and count of each bin\n",
    "histogram_volumeBTC = (\n",
    "    stat_no_outlier\n",
    "    .select('Volume BTC')\n",
    "    .rdd\n",
    "    .flatMap(lambda record: record)\n",
    "    .histogram(20)\n",
    ")\n",
    "histogram_volumeBTC\n",
    "#display bin ranges\n",
    "for i in range(len(histogram_volumeBTC[0])-1):\n",
    "    print('[' + str(round(histogram_volumeBTC[0][i],2))\n",
    "        + ',' + str(round(histogram_volumeBTC[0][i+1],2))\n",
    "          + ')'\n",
    "         )"
   ]
  },
  {
   "cell_type": "code",
   "execution_count": null,
   "id": "8a667160",
   "metadata": {},
   "outputs": [],
   "source": [
    "%%spark -o hist_volumeBTC \n",
    "hist_volumeBTC =  spark.createDataFrame(\n",
    "    list(zip(*histogram_volumeBTC)), \n",
    "    ['Volume BTC', 'counts'])\n",
    "import matplotlib\n",
    "import matplotlib.pyplot as plt\n",
    "hist_high.toPandas().set_index('Volume BTC'\n",
    "            ).plot(kind='bar')\n",
    "%matplot plt"
   ]
  },
  {
   "cell_type": "markdown",
   "id": "eecd4862",
   "metadata": {},
   "source": [
    "Histogram of Volume USDT"
   ]
  },
  {
   "cell_type": "code",
   "execution_count": null,
   "id": "1740552c",
   "metadata": {},
   "outputs": [],
   "source": [
    "#generate bins and count of each bin\n",
    "histogram_volumeUSDT = (\n",
    "    stat_no_outlier\n",
    "    .select('Volume USDT')\n",
    "    .rdd\n",
    "    .flatMap(lambda record: record)\n",
    "    .histogram(20)\n",
    ")\n",
    "histogram_volumeUSDT\n",
    "#display bin ranges\n",
    "for i in range(len(histogram_volumeUSDT[0])-1):\n",
    "    print('[' + str(round(histogram_volumeUSDT[0][i],2))\n",
    "        + ',' + str(round(histogram_volumeUSDT[0][i+1],2))\n",
    "          + ')'\n",
    "         )"
   ]
  },
  {
   "cell_type": "code",
   "execution_count": null,
   "id": "9fba444a",
   "metadata": {},
   "outputs": [],
   "source": [
    "%%spark -o hist_volumeUSDT\n",
    "hist_volumeUSDT =  spark.createDataFrame(\n",
    "    list(zip(*histogram_volumeUSDT)), \n",
    "    ['Volume USDT', 'counts'])\n",
    "import matplotlib\n",
    "import matplotlib.pyplot as plt\n",
    "hist_high.toPandas().set_index('Volume USDT'\n",
    "            ).plot(kind='bar')\n",
    "%matplot plt"
   ]
  }
 ],
 "metadata": {
  "kernelspec": {
   "display_name": "PySpark",
   "language": "",
   "name": "pysparkkernel"
  },
  "language_info": {
   "codemirror_mode": {
    "name": "python",
    "version": 3
   },
   "mimetype": "text/x-python",
   "name": "pyspark",
   "pygments_lexer": "python3"
  }
 },
 "nbformat": 4,
 "nbformat_minor": 5
}
